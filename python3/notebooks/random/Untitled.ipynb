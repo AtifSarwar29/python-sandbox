{
 "cells": [
  {
   "cell_type": "code",
   "execution_count": 21,
   "metadata": {
    "collapsed": true
   },
   "outputs": [],
   "source": [
    "import re\n",
    "\n",
    "def retrieveMostFrequentlyUsedWords(literatureText, wordsToExclude):\n",
    "    # WRITE YOUR CODE HERE\n",
    "    def clean_text(input_txt):\n",
    "        output_chars = [c.lower() if (c.isalpha() and ord(c) < 128) else ' ' for c in input_txt]\n",
    "        return ''.join(output_chars)\n",
    "        \n",
    "    whitespace_pat = re.compile(\"\\s+\")\n",
    "    \n",
    "    parts_lower = whitespace_pat.split(clean_text(literatureText))\n",
    "    \n",
    "    wordsToExcludeLower = [clean_text(word) for word in wordsToExclude]\n",
    "\n",
    "    word_counts = dict()\n",
    "\n",
    "    for part in parts_lower:\n",
    "        if part in wordsToExcludeLower:\n",
    "            continue\n",
    "        else:\n",
    "            if word_counts.get(part,None) is None:\n",
    "                word_counts[part] = 1\n",
    "            else:\n",
    "                cnt = word_counts[part]\n",
    "                new_cnt = cnt + 1\n",
    "                word_counts[part] = new_cnt\n",
    "            \n",
    "    sorted_counts = sorted(word_counts.items(),key=lambda x: x[1], reverse=True)\n",
    "    \n",
    "    top_word_count_pair = sorted_counts[0]\n",
    "    \n",
    "    top_count = top_word_count_pair[1]\n",
    "    \n",
    "    words_with_top_count = [word for (word,cnt) in sorted_counts if cnt == top_count]\n",
    "    \n",
    "    return words_with_top_count\n",
    "    "
   ]
  },
  {
   "cell_type": "code",
   "execution_count": 22,
   "metadata": {},
   "outputs": [
    {
     "data": {
      "text/plain": [
       "['are', 'rose']"
      ]
     },
     "execution_count": 22,
     "metadata": {},
     "output_type": "execute_result"
    }
   ],
   "source": [
    "retrieveMostFrequentlyUsedWords('rose is a are   are red rose ar ar ar',['ar','bar','baz'])"
   ]
  },
  {
   "cell_type": "code",
   "execution_count": 25,
   "metadata": {},
   "outputs": [
    {
     "data": {
      "text/plain": [
       "['foo', 'bvar', 'baz']"
      ]
     },
     "execution_count": 25,
     "metadata": {},
     "output_type": "execute_result"
    }
   ],
   "source": [
    "['foo','bvar']+['baz']"
   ]
  },
  {
   "cell_type": "code",
   "execution_count": 48,
   "metadata": {},
   "outputs": [],
   "source": [
    "import re\n",
    "\n",
    "def reorderLines(logFileSize, logfile):\n",
    "    \n",
    "    tuples_with_words = list()\n",
    "    lines_with_numbers = list()\n",
    "    \n",
    "    whitespace_pat = re.compile(\"\\s+\")\n",
    "    \n",
    "    for i,line in enumerate(logfile):\n",
    "        \n",
    "        if i > logFileSize-1:\n",
    "            break\n",
    "        \n",
    "        parts = whitespace_pat.split(line)\n",
    "        \n",
    "        if parts[1].isalpha():\n",
    "            \n",
    "            rest_of_line_for_ordering = ''.join(parts[1:]).lower()\n",
    "            identifier = parts[0].lower()\n",
    "            \n",
    "            # use the identifeir at the end in case all line is the same\n",
    "            line_for_ordering = rest_of_line_for_ordering+identifier\n",
    "            \n",
    "            tpl = (line,line_for_ordering)\n",
    "            \n",
    "            tuples_with_words.append(tpl)\n",
    "        else: # it's a number\n",
    "            lines_with_numbers.append(line)\n",
    "            \n",
    "    # the sort is case sensitive, but the output is the same\n",
    "    # case as the original\n",
    "    \n",
    "    sorted_tuples_with_words = sorted(tuples_with_words,key=lambda x:x[1])\n",
    "    \n",
    "    sorted_lines_with_words = [original_line for original_line,_ in sorted_tuples_with_words]\n",
    "    \n",
    "    output = sorted_lines_with_words + lines_with_numbers\n",
    "    \n",
    "    return output"
   ]
  },
  {
   "cell_type": "code",
   "execution_count": 56,
   "metadata": {},
   "outputs": [
    {
     "data": {
      "text/plain": [
       "['a1 foo bar baz', 'A2 foo bar baz']"
      ]
     },
     "execution_count": 56,
     "metadata": {},
     "output_type": "execute_result"
    }
   ],
   "source": [
    "input_str = [\n",
    "    'a1 foo bar baz',\n",
    "    'A2 foo bar baz'\n",
    "]\n",
    "reorderLines(99,input_str)"
   ]
  },
  {
   "cell_type": "code",
   "execution_count": null,
   "metadata": {
    "collapsed": true
   },
   "outputs": [],
   "source": []
  },
  {
   "cell_type": "code",
   "execution_count": null,
   "metadata": {
    "collapsed": true
   },
   "outputs": [],
   "source": []
  }
 ],
 "metadata": {
  "kernelspec": {
   "display_name": "Global TF Kernel (Python 3)",
   "language": "python",
   "name": "global-tf-python-3"
  },
  "language_info": {
   "codemirror_mode": {
    "name": "ipython",
    "version": 3
   },
   "file_extension": ".py",
   "mimetype": "text/x-python",
   "name": "python",
   "nbconvert_exporter": "python",
   "pygments_lexer": "ipython3",
   "version": "3.5.2"
  }
 },
 "nbformat": 4,
 "nbformat_minor": 2
}
