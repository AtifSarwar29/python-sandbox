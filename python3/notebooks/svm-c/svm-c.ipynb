{
 "cells": [
  {
   "cell_type": "code",
   "execution_count": 1,
   "metadata": {},
   "outputs": [
    {
     "data": {
      "text/plain": [
       "('3.0.3', '1.16.3', '0.21.1')"
      ]
     },
     "execution_count": 1,
     "metadata": {},
     "output_type": "execute_result"
    }
   ],
   "source": [
    "import math\n",
    "import matplotlib\n",
    "import numpy as np\n",
    "import sklearn\n",
    "\n",
    "matplotlib.__version__,np.__version__,sklearn.__version__"
   ]
  },
  {
   "cell_type": "code",
   "execution_count": 2,
   "metadata": {},
   "outputs": [],
   "source": [
    "import matplotlib.pyplot as plt\n",
    "\n",
    "from sklearn import metrics\n",
    "\n",
    "from sklearn.svm import SVC\n",
    "from sklearn.datasets import make_classification\n",
    "from sklearn.model_selection import ParameterGrid, train_test_split\n",
    "from sklearn.pipeline import Pipeline\n",
    "from sklearn.preprocessing import MinMaxScaler"
   ]
  },
  {
   "cell_type": "code",
   "execution_count": 3,
   "metadata": {},
   "outputs": [],
   "source": [
    "np.random.seed(222)\n",
    "X, y = make_classification(\n",
    "    n_samples=10000, \n",
    "    n_features=10,\n",
    "    n_informative=10,\n",
    "    n_redundant=0,\n",
    "    weights=[0.3,0.7],\n",
    "    class_sep=0.7,\n",
    "    flip_y=0.35) # the default value for flip_y is 0.01, or 1%\n",
    "X_train, _ , y_train, _ = train_test_split(X, y, test_size=0.25)"
   ]
  },
  {
   "cell_type": "code",
   "execution_count": 4,
   "metadata": {},
   "outputs": [
    {
     "data": {
      "text/plain": [
       "(-0.11833617463992567, 0.6342)"
      ]
     },
     "execution_count": 4,
     "metadata": {},
     "output_type": "execute_result"
    }
   ],
   "source": [
    "X.mean(),y.mean()"
   ]
  },
  {
   "cell_type": "code",
   "execution_count": 5,
   "metadata": {},
   "outputs": [],
   "source": [
    "np.random.seed(222)\n",
    "X, y = make_classification(\n",
    "    n_samples=10000, \n",
    "    n_features=10,\n",
    "    n_informative=10,\n",
    "    n_redundant=0,\n",
    "    weights=[0.3,0.7],\n",
    "    class_sep=0.7,\n",
    "    flip_y=0.0)\n",
    "_, X_test , _ , y_test = train_test_split(X, y, test_size=0.25)"
   ]
  },
  {
   "cell_type": "code",
   "execution_count": 6,
   "metadata": {},
   "outputs": [
    {
     "data": {
      "text/plain": [
       "(-0.11833617463992567, 0.7)"
      ]
     },
     "execution_count": 6,
     "metadata": {},
     "output_type": "execute_result"
    }
   ],
   "source": [
    "X.mean(),y.mean()"
   ]
  },
  {
   "cell_type": "code",
   "execution_count": 7,
   "metadata": {},
   "outputs": [],
   "source": [
    "pipeline = Pipeline([\n",
    "    ('prep',MinMaxScaler()),\n",
    "    ('clf',SVC())\n",
    "])"
   ]
  },
  {
   "cell_type": "markdown",
   "metadata": {},
   "source": [
    "## linear kernel"
   ]
  },
  {
   "cell_type": "code",
   "execution_count": 8,
   "metadata": {},
   "outputs": [],
   "source": [
    "param_grid1 = [\n",
    "    {\n",
    "        'clf__kernel': ['linear'],\n",
    "        'clf__C':[0.0001, 0.001, 0.01, 0.1, 1, 10, 100, 1000],\n",
    "        'clf__gamma':['auto']\n",
    "    }\n",
    "]"
   ]
  },
  {
   "cell_type": "code",
   "execution_count": null,
   "metadata": {
    "scrolled": false
   },
   "outputs": [],
   "source": [
    "%%time\n",
    "num_cols = 3\n",
    "num_rows = math.ceil(len(ParameterGrid(param_grid1)) / num_cols)\n",
    "\n",
    "# create a single figure\n",
    "plt.clf()\n",
    "fig,axes = plt.subplots(num_rows,num_cols,sharey=True)\n",
    "fig.set_size_inches(num_cols*5,num_rows*5)\n",
    "\n",
    "for i,g in enumerate(ParameterGrid(param_grid1)):\n",
    "\n",
    "    pipeline.set_params(**g)\n",
    "    pipeline.fit(X_train,y_train)\n",
    "\n",
    "    y_preds = pipeline.decision_function(X_test)\n",
    "    \n",
    "    # fpr means false-positive-rate\n",
    "    # tpr means true-positive-rate\n",
    "    fpr, tpr, _ = metrics.roc_curve(y_test, y_preds)\n",
    "\n",
    "    auc_score = metrics.auc(fpr, tpr)\n",
    "\n",
    "    ax = axes[i // num_cols, i % num_cols]\n",
    "\n",
    "    # don't print the whole name or it won't fit\n",
    "    ax.set_title(str([r\"{}:{}\".format(k.split('__')[1:],v) for k,v in g.items()]),fontsize=9)\n",
    "    ax.plot(fpr, tpr, label='AUC = {:.3f}'.format(auc_score))\n",
    "    ax.legend(loc='lower right')\n",
    "\n",
    "    # it's helpful to add a diagonal to indicate where chance \n",
    "    # scores lie (i.e. just flipping a coin)\n",
    "    ax.plot([0,1],[0,1],'r--')\n",
    "\n",
    "    ax.set_xlim([-0.1,1.1])\n",
    "    ax.set_ylim([-0.1,1.1])\n",
    "    ax.set_ylabel('True Positive Rate')\n",
    "    ax.set_xlabel('False Positive Rate')\n",
    "\n",
    "plt.gcf().tight_layout()\n",
    "plt.show()"
   ]
  },
  {
   "cell_type": "markdown",
   "metadata": {},
   "source": [
    "## polynomial kernel degree=2"
   ]
  },
  {
   "cell_type": "code",
   "execution_count": null,
   "metadata": {},
   "outputs": [],
   "source": [
    "param_grid2 = [\n",
    "    {\n",
    "        'clf__kernel': ['poly'],\n",
    "        'clf__C':[0.0001, 0.001, 0.01, 0.1, 1, 10, 100, 1000],\n",
    "        'clf__degree':[2],\n",
    "        'clf__gamma':['auto']\n",
    "    }\n",
    "]"
   ]
  },
  {
   "cell_type": "code",
   "execution_count": null,
   "metadata": {
    "scrolled": false
   },
   "outputs": [],
   "source": [
    "%%time\n",
    "num_cols = 3\n",
    "num_rows = math.ceil(len(ParameterGrid(param_grid2)) / num_cols)\n",
    "\n",
    "# create a single figure\n",
    "plt.clf()\n",
    "fig,axes = plt.subplots(num_rows,num_cols,sharey=True)\n",
    "fig.set_size_inches(num_cols*5,num_rows*5)\n",
    "\n",
    "for i,g in enumerate(ParameterGrid(param_grid2)):\n",
    "\n",
    "    pipeline.set_params(**g)\n",
    "    pipeline.fit(X_train,y_train)\n",
    "\n",
    "    y_preds = pipeline.decision_function(X_test)\n",
    "    \n",
    "    # fpr means false-positive-rate\n",
    "    # tpr means true-positive-rate\n",
    "    fpr, tpr, _ = metrics.roc_curve(y_test, y_preds)\n",
    "\n",
    "    auc_score = metrics.auc(fpr, tpr)\n",
    "\n",
    "    ax = axes[i // num_cols, i % num_cols]\n",
    "\n",
    "    # don't print the whole name or it won't fit\n",
    "    ax.set_title(str([r\"{}:{}\".format(k.split('__')[1:],v) for k,v in g.items()]),fontsize=9)\n",
    "    ax.plot(fpr, tpr, label='AUC = {:.3f}'.format(auc_score))\n",
    "    ax.legend(loc='lower right')\n",
    "\n",
    "    # it's helpful to add a diagonal to indicate where chance \n",
    "    # scores lie (i.e. just flipping a coin)\n",
    "    ax.plot([0,1],[0,1],'r--')\n",
    "\n",
    "    ax.set_xlim([-0.1,1.1])\n",
    "    ax.set_ylim([-0.1,1.1])\n",
    "    ax.set_ylabel('True Positive Rate')\n",
    "    ax.set_xlabel('False Positive Rate')\n",
    "\n",
    "plt.gcf().tight_layout()\n",
    "plt.show()"
   ]
  },
  {
   "cell_type": "markdown",
   "metadata": {},
   "source": [
    "## polynomial kernel, degree=3"
   ]
  },
  {
   "cell_type": "code",
   "execution_count": null,
   "metadata": {},
   "outputs": [],
   "source": [
    "param_grid3 = [\n",
    "    {\n",
    "        'clf__kernel': ['poly'],\n",
    "        'clf__C':[0.0001, 0.001, 0.01, 0.1, 1, 10, 100, 1000],\n",
    "        'clf__degree':[3],\n",
    "        'clf__gamma':['auto']\n",
    "    }\n",
    "]"
   ]
  },
  {
   "cell_type": "code",
   "execution_count": null,
   "metadata": {},
   "outputs": [],
   "source": [
    "%%time\n",
    "num_cols = 3\n",
    "num_rows = math.ceil(len(ParameterGrid(param_grid3)) / num_cols)\n",
    "\n",
    "# create a single figure\n",
    "plt.clf()\n",
    "fig,axes = plt.subplots(num_rows,num_cols,sharey=True)\n",
    "fig.set_size_inches(num_cols*5,num_rows*5)\n",
    "\n",
    "for i,g in enumerate(ParameterGrid(param_grid3)):\n",
    "\n",
    "    pipeline.set_params(**g)\n",
    "    pipeline.fit(X_train,y_train)\n",
    "\n",
    "    y_preds = pipeline.decision_function(X_test)\n",
    "    \n",
    "    # fpr means false-positive-rate\n",
    "    # tpr means true-positive-rate\n",
    "    fpr, tpr, _ = metrics.roc_curve(y_test, y_preds)\n",
    "\n",
    "    auc_score = metrics.auc(fpr, tpr)\n",
    "\n",
    "    ax = axes[i // num_cols, i % num_cols]\n",
    "\n",
    "    # don't print the whole name or it won't fit\n",
    "    ax.set_title(str([r\"{}:{}\".format(k.split('__')[1:],v) for k,v in g.items()]),fontsize=9)\n",
    "    ax.plot(fpr, tpr, label='AUC = {:.3f}'.format(auc_score))\n",
    "    ax.legend(loc='lower right')\n",
    "\n",
    "    # it's helpful to add a diagonal to indicate where chance \n",
    "    # scores lie (i.e. just flipping a coin)\n",
    "    ax.plot([0,1],[0,1],'r--')\n",
    "\n",
    "    ax.set_xlim([-0.1,1.1])\n",
    "    ax.set_ylim([-0.1,1.1])\n",
    "    ax.set_ylabel('True Positive Rate')\n",
    "    ax.set_xlabel('False Positive Rate')\n",
    "\n",
    "plt.gcf().tight_layout()\n",
    "plt.show()"
   ]
  },
  {
   "cell_type": "markdown",
   "metadata": {},
   "source": [
    "## polynomial kernel, degree=4"
   ]
  },
  {
   "cell_type": "code",
   "execution_count": null,
   "metadata": {},
   "outputs": [],
   "source": [
    "param_grid4 = [\n",
    "    {\n",
    "        'clf__kernel': ['poly'],\n",
    "        'clf__C':[0.0001, 0.001, 0.01, 0.1, 1, 10, 100, 1000],\n",
    "        'clf__degree':[4],\n",
    "        'clf__gamma':['auto']\n",
    "    }\n",
    "]"
   ]
  },
  {
   "cell_type": "code",
   "execution_count": null,
   "metadata": {},
   "outputs": [],
   "source": [
    "%%time\n",
    "num_cols = 3\n",
    "num_rows = math.ceil(len(ParameterGrid(param_grid4)) / num_cols)\n",
    "\n",
    "# create a single figure\n",
    "plt.clf()\n",
    "fig,axes = plt.subplots(num_rows,num_cols,sharey=True)\n",
    "fig.set_size_inches(num_cols*5,num_rows*5)\n",
    "\n",
    "for i,g in enumerate(ParameterGrid(param_grid4)):\n",
    "\n",
    "    pipeline.set_params(**g)\n",
    "    pipeline.fit(X_train,y_train)\n",
    "\n",
    "    y_preds = pipeline.decision_function(X_test)\n",
    "    \n",
    "    # fpr means false-positive-rate\n",
    "    # tpr means true-positive-rate\n",
    "    fpr, tpr, _ = metrics.roc_curve(y_test, y_preds)\n",
    "\n",
    "    auc_score = metrics.auc(fpr, tpr)\n",
    "\n",
    "    ax = axes[i // num_cols, i % num_cols]\n",
    "\n",
    "    # don't print the whole name or it won't fit\n",
    "    ax.set_title(str([r\"{}:{}\".format(k.split('__')[1:],v) for k,v in g.items()]),fontsize=9)\n",
    "    ax.plot(fpr, tpr, label='AUC = {:.3f}'.format(auc_score))\n",
    "    ax.legend(loc='lower right')\n",
    "\n",
    "    # it's helpful to add a diagonal to indicate where chance \n",
    "    # scores lie (i.e. just flipping a coin)\n",
    "    ax.plot([0,1],[0,1],'r--')\n",
    "\n",
    "    ax.set_xlim([-0.1,1.1])\n",
    "    ax.set_ylim([-0.1,1.1])\n",
    "    ax.set_ylabel('True Positive Rate')\n",
    "    ax.set_xlabel('False Positive Rate')\n",
    "\n",
    "plt.gcf().tight_layout()\n",
    "plt.show()"
   ]
  },
  {
   "cell_type": "markdown",
   "metadata": {},
   "source": [
    "## polynomial kernel, degree=5"
   ]
  },
  {
   "cell_type": "code",
   "execution_count": null,
   "metadata": {},
   "outputs": [],
   "source": [
    "param_grid5 = [\n",
    "    {\n",
    "        'clf__kernel': ['poly'],\n",
    "        'clf__C':[0.0001, 0.001, 0.01, 0.1, 1, 10, 100, 1000],\n",
    "        'clf__degree':[5],\n",
    "        'clf__gamma':['auto']\n",
    "    }\n",
    "]"
   ]
  },
  {
   "cell_type": "code",
   "execution_count": null,
   "metadata": {},
   "outputs": [],
   "source": [
    "%%time\n",
    "num_cols = 3\n",
    "num_rows = math.ceil(len(ParameterGrid(param_grid5)) / num_cols)\n",
    "\n",
    "# create a single figure\n",
    "plt.clf()\n",
    "fig,axes = plt.subplots(num_rows,num_cols,sharey=True)\n",
    "fig.set_size_inches(num_cols*5,num_rows*5)\n",
    "\n",
    "for i,g in enumerate(ParameterGrid(param_grid5)):\n",
    "\n",
    "    pipeline.set_params(**g)\n",
    "    pipeline.fit(X_train,y_train)\n",
    "\n",
    "    y_preds = pipeline.decision_function(X_test)\n",
    "    \n",
    "    # fpr means false-positive-rate\n",
    "    # tpr means true-positive-rate\n",
    "    fpr, tpr, _ = metrics.roc_curve(y_test, y_preds)\n",
    "\n",
    "    auc_score = metrics.auc(fpr, tpr)\n",
    "\n",
    "    ax = axes[i // num_cols, i % num_cols]\n",
    "\n",
    "    # don't print the whole name or it won't fit\n",
    "    ax.set_title(str([r\"{}:{}\".format(k.split('__')[1:],v) for k,v in g.items()]),fontsize=9)\n",
    "    ax.plot(fpr, tpr, label='AUC = {:.3f}'.format(auc_score))\n",
    "    ax.legend(loc='lower right')\n",
    "\n",
    "    # it's helpful to add a diagonal to indicate where chance \n",
    "    # scores lie (i.e. just flipping a coin)\n",
    "    ax.plot([0,1],[0,1],'r--')\n",
    "\n",
    "    ax.set_xlim([-0.1,1.1])\n",
    "    ax.set_ylim([-0.1,1.1])\n",
    "    ax.set_ylabel('True Positive Rate')\n",
    "    ax.set_xlabel('False Positive Rate')\n",
    "\n",
    "plt.gcf().tight_layout()\n",
    "plt.show()"
   ]
  },
  {
   "cell_type": "markdown",
   "metadata": {},
   "source": [
    "## rbf kernel"
   ]
  },
  {
   "cell_type": "code",
   "execution_count": null,
   "metadata": {},
   "outputs": [],
   "source": [
    "param_grid6 = [\n",
    "    {\n",
    "        'clf__kernel': ['rbf'],\n",
    "        'clf__C':[0.0001, 0.001, 0.01, 0.1, 1, 10, 100, 1000],\n",
    "        'clf__gamma':['auto']\n",
    "    }\n",
    "]"
   ]
  },
  {
   "cell_type": "code",
   "execution_count": null,
   "metadata": {},
   "outputs": [],
   "source": [
    "%%time\n",
    "num_cols = 3\n",
    "num_rows = math.ceil(len(ParameterGrid(param_grid6)) / num_cols)\n",
    "\n",
    "# create a single figure\n",
    "plt.clf()\n",
    "fig,axes = plt.subplots(num_rows,num_cols,sharey=True)\n",
    "fig.set_size_inches(num_cols*5,num_rows*5)\n",
    "\n",
    "for i,g in enumerate(ParameterGrid(param_grid6)):\n",
    "\n",
    "    pipeline.set_params(**g)\n",
    "    pipeline.fit(X_train,y_train)\n",
    "\n",
    "    y_preds = pipeline.decision_function(X_test)\n",
    "    \n",
    "    # fpr means false-positive-rate\n",
    "    # tpr means true-positive-rate\n",
    "    fpr, tpr, _ = metrics.roc_curve(y_test, y_preds)\n",
    "\n",
    "    auc_score = metrics.auc(fpr, tpr)\n",
    "\n",
    "    ax = axes[i // num_cols, i % num_cols]\n",
    "\n",
    "    # don't print the whole name or it won't fit\n",
    "    ax.set_title(str([r\"{}:{}\".format(k.split('__')[1:],v) for k,v in g.items()]),fontsize=9)\n",
    "    ax.plot(fpr, tpr, label='AUC = {:.3f}'.format(auc_score))\n",
    "    ax.legend(loc='lower right')\n",
    "\n",
    "    # it's helpful to add a diagonal to indicate where chance \n",
    "    # scores lie (i.e. just flipping a coin)\n",
    "    ax.plot([0,1],[0,1],'r--')\n",
    "\n",
    "    ax.set_xlim([-0.1,1.1])\n",
    "    ax.set_ylim([-0.1,1.1])\n",
    "    ax.set_ylabel('True Positive Rate')\n",
    "    ax.set_xlabel('False Positive Rate')\n",
    "\n",
    "plt.gcf().tight_layout()\n",
    "plt.show()"
   ]
  },
  {
   "cell_type": "code",
   "execution_count": null,
   "metadata": {},
   "outputs": [],
   "source": []
  }
 ],
 "metadata": {
  "kernelspec": {
   "display_name": "Python 3",
   "language": "python",
   "name": "python3"
  },
  "language_info": {
   "codemirror_mode": {
    "name": "ipython",
    "version": 3
   },
   "file_extension": ".py",
   "mimetype": "text/x-python",
   "name": "python",
   "nbconvert_exporter": "python",
   "pygments_lexer": "ipython3",
   "version": "3.6.7"
  }
 },
 "nbformat": 4,
 "nbformat_minor": 2
}
