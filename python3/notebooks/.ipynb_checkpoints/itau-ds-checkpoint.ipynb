{
 "cells": [
  {
   "cell_type": "code",
   "execution_count": 1,
   "metadata": {
    "collapsed": true
   },
   "outputs": [],
   "source": [
    "import numpy as np\n",
    "import scipy as sp\n",
    "import pandas as pd\n",
    "from matplotlib import pyplot as plt\n",
    "\n",
    "%matplotlib inline"
   ]
  },
  {
   "cell_type": "markdown",
   "metadata": {},
   "source": [
    "## questão 1"
   ]
  },
  {
   "cell_type": "code",
   "execution_count": 2,
   "metadata": {
    "collapsed": true
   },
   "outputs": [],
   "source": [
    "from scipy.cluster.hierarchy import dendrogram,linkage"
   ]
  },
  {
   "cell_type": "code",
   "execution_count": 3,
   "metadata": {
    "collapsed": true
   },
   "outputs": [],
   "source": [
    "# a matriz dada no exercício precisou ser expandida (espelhada)\n",
    "# porque o python aparentemente precisa de entradas em todos os \n",
    "# elementos da matriz\n",
    "\n",
    "a = np.array([[0,2,6,10,9],\n",
    "              [2,0,5,9,8],\n",
    "              [6,5,0,4,5],\n",
    "              [10,9,4,0,3],\n",
    "              [9,8,5,3,0]])"
   ]
  },
  {
   "cell_type": "code",
   "execution_count": 4,
   "metadata": {},
   "outputs": [
    {
     "data": {
      "image/png": "[encoded data removed]",
      "text/plain": [
       "<matplotlib.figure.Figure at 0x7fd97998fa90>"
      ]
     },
     "metadata": {},
     "output_type": "display_data"
    }
   ],
   "source": [
    "z = linkage(a,method=\"single\")\n",
    "d=dendrogram(z)"
   ]
  },
  {
   "cell_type": "markdown",
   "metadata": {},
   "source": [
    "As alternativas **b** e **e** estão corretas:\n",
    "\n",
    "- b) os objetos 1 e 2 formam o primeiro cluster não unitário\n",
    "\n",
    "- e) o algoritmo produz uma sequência de partições unitárias"
   ]
  },
  {
   "cell_type": "markdown",
   "metadata": {},
   "source": [
    "## questão 2"
   ]
  },
  {
   "cell_type": "code",
   "execution_count": 5,
   "metadata": {
    "collapsed": true
   },
   "outputs": [],
   "source": [
    "from sklearn.cluster import KMeans"
   ]
  },
  {
   "cell_type": "code",
   "execution_count": 6,
   "metadata": {
    "collapsed": true
   },
   "outputs": [],
   "source": [
    "X = np.array([[1,1],\n",
    "              [1,2],\n",
    "              [2,1],\n",
    "              [2,2],\n",
    "              [5,1],\n",
    "              [6,1],\n",
    "              [5,2]])\n",
    "\n",
    "initial_centroids = np.array([[3,0],\n",
    "                             [5,0]])\n",
    "\n",
    "cluster = KMeans(\n",
    "    n_clusters=2, # numero de clusters que eu quero\n",
    "    init=initial_centroids, # centroides iniciais\n",
    "    max_iter=5, # numero de iterações\n",
    "    n_init=1 # numero de vezes que o algo. vai rodar\n",
    ")\n",
    "\n",
    "cluster.fit(X)\n",
    "\n",
    "final_centroids = cluster.cluster_centers_"
   ]
  },
  {
   "cell_type": "code",
   "execution_count": 7,
   "metadata": {},
   "outputs": [
    {
     "name": "stdout",
     "output_type": "stream",
     "text": [
      "[[ 1.5         1.5       ]\n",
      " [ 5.33333333  1.33333333]]\n"
     ]
    }
   ],
   "source": [
    "print(final_centroids)"
   ]
  },
  {
   "cell_type": "markdown",
   "metadata": {},
   "source": [
    "Os centróides finais obtidos são (1.5, 1.5) e (5.33, 5.33)"
   ]
  },
  {
   "cell_type": "markdown",
   "metadata": {},
   "source": [
    "## questão 3"
   ]
  },
  {
   "cell_type": "code",
   "execution_count": 8,
   "metadata": {
    "collapsed": true
   },
   "outputs": [],
   "source": [
    "from sklearn.metrics.cluster import adjusted_rand_score"
   ]
  },
  {
   "cell_type": "code",
   "execution_count": 9,
   "metadata": {},
   "outputs": [
    {
     "name": "stdout",
     "output_type": "stream",
     "text": [
      "-0.166666666667\n"
     ]
    }
   ],
   "source": [
    "ground_truth = [1,2,1,2,2,1,2]\n",
    "pred = [1,2,1,1,1,2,2]\n",
    "\n",
    "print(adjusted_rand_score(ground_truth,pred))"
   ]
  },
  {
   "cell_type": "markdown",
   "metadata": {},
   "source": [
    "## questão 4"
   ]
  },
  {
   "cell_type": "markdown",
   "metadata": {},
   "source": [
    "A opção **d** é verdadeira. Nenhuma das alternativas está correta."
   ]
  },
  {
   "cell_type": "markdown",
   "metadata": {},
   "source": [
    "## questão 5"
   ]
  },
  {
   "cell_type": "markdown",
   "metadata": {},
   "source": [
    "> estratégia: calcular $P(não|ensolarado, quente, normal, verdadeiro)$ e depois\n",
    "calcular $P(sim|ensolarado, quente, normal, verdadeiro)$ e ver \n",
    "qual dos dois é mais alto."
   ]
  },
  {
   "cell_type": "markdown",
   "metadata": {},
   "source": [
    "$P(não|ensolarado,quente,normal,verdadeiro)=\\frac{P(ensolarado, quente, normal, verdadeiro|não) * P(não)}{P(ensolarado, quente, normal, verdadeiro)}$\n",
    "\n",
    "              \n",
    " e $P(ensolarado, quente, normal, verdadeiro)$ \n",
    " é igual ao somatório de  $P(ensolarado, quente, normal, verdadeiro)$\n",
    " condicionado em \"não\" e condicionado em \"sim\""
   ]
  },
  {
   "cell_type": "markdown",
   "metadata": {},
   "source": [
    "asssumindo que as features são independentes entre si (hipótese ingênua), então $P(a,b) = P(a)P(b)$\n",
    "\n",
    "\n",
    "\n"
   ]
  },
  {
   "cell_type": "code",
   "execution_count": 10,
   "metadata": {
    "collapsed": true
   },
   "outputs": [],
   "source": [
    "# P(ensolarado, quente, normal, verdadeiro| não)\n",
    "\n",
    "P_features_given_no_times_p_no = (3/5)* (5/14) + (3/5)*(5/14) + (1/5)*(5/14) + (3/5)*(5/14)"
   ]
  },
  {
   "cell_type": "code",
   "execution_count": 11,
   "metadata": {
    "collapsed": true
   },
   "outputs": [],
   "source": [
    "# P(ensolarado, quente, normal, verdadeiro| sim)\n",
    "\n",
    "P_features_given_yes_times_p_yes = (2/9)*(9/15) + (2/9)*(9/15) + (6/9)*(9/15) + (3/9)*(9/15)\n"
   ]
  },
  {
   "cell_type": "code",
   "execution_count": 12,
   "metadata": {},
   "outputs": [],
   "source": [
    "denominator = P_features_given_no_times_p_no + P_features_given_yes_times_p_yes"
   ]
  },
  {
   "cell_type": "code",
   "execution_count": 13,
   "metadata": {},
   "outputs": [
    {
     "name": "stdout",
     "output_type": "stream",
     "text": [
      "0.45180722891566266\n"
     ]
    }
   ],
   "source": [
    "# probabilidade de NÃO\n",
    "P_no_given_features = P_features_given_no_times_p_no / denominator\n",
    "print(P_no_given_features)"
   ]
  },
  {
   "cell_type": "code",
   "execution_count": 14,
   "metadata": {},
   "outputs": [
    {
     "name": "stdout",
     "output_type": "stream",
     "text": [
      "0.5481927710843373\n"
     ]
    }
   ],
   "source": [
    "# probabilidade de SIM\n",
    "P_yes_given_features = P_features_given_yes_times_p_yes / denominator\n",
    "print(P_yes_given_features)"
   ]
  },
  {
   "cell_type": "markdown",
   "metadata": {},
   "source": [
    "A probabilidade $P(NÃO|features) = 0.452$ e $P(SIM|features)= 0.548$.\n",
    "\n",
    "Logo, a classe mais provável é **SIM**."
   ]
  },
  {
   "cell_type": "markdown",
   "metadata": {},
   "source": [
    "## questão 6"
   ]
  },
  {
   "cell_type": "code",
   "execution_count": 15,
   "metadata": {
    "collapsed": true
   },
   "outputs": [],
   "source": [
    "from sklearn import tree\n",
    "from sklearn import preprocessing"
   ]
  },
  {
   "cell_type": "code",
   "execution_count": 16,
   "metadata": {},
   "outputs": [
    {
     "data": {
      "text/plain": [
       "((12, 4), (12,))"
      ]
     },
     "execution_count": 16,
     "metadata": {},
     "output_type": "execute_result"
    }
   ],
   "source": [
    "# preciso converter as features categóricas em números\n",
    "\n",
    "# sexta/sábado: não/sim = 0,1\n",
    "# faminto: não/sim = 0,1 \n",
    "# clientes: cheio, nenhum, algum = 0,1,2\n",
    "# tipo: tailandes,frances, hamburguer, italiano = 0,1,2,3\n",
    "# espera: não/sim = 0,1\n",
    "\n",
    "encoded = np.array([\n",
    "    [0,1,0,0,0],\n",
    "    [1,0,0,1,0],\n",
    "    [0,0,1,2,0],\n",
    "    [1,0,1,2,0],\n",
    "    [1,1,0,3,0],\n",
    "    [0,0,1,0,0],\n",
    "    [0,1,2,1,1],\n",
    "    [0,0,2,2,1],\n",
    "    [1,1,0,0,1],\n",
    "    [0,1,2,3,1],\n",
    "    [0,1,2,0,1],\n",
    "    [1,1,0,2,1]\n",
    "])\n",
    "\n",
    "X = encoded[:,:-1]\n",
    "y = encoded[:,-1]\n",
    "X.shape,y.shape"
   ]
  },
  {
   "cell_type": "code",
   "execution_count": 17,
   "metadata": {
    "collapsed": true
   },
   "outputs": [],
   "source": [
    "# critério default é o coeficiente gini\n",
    "clf = tree.DecisionTreeClassifier(criterion='entropy')\n",
    "clf = clf.fit(X,y)"
   ]
  },
  {
   "cell_type": "code",
   "execution_count": 18,
   "metadata": {},
   "outputs": [
    {
     "data": {
      "text/plain": [
       "array([1])"
      ]
     },
     "execution_count": 18,
     "metadata": {},
     "output_type": "execute_result"
    }
   ],
   "source": [
    "# item A\n",
    "# [1,1,0,1] = [sim, sim, cheio, francês]\n",
    "x_test = np.array([1,1,0,1]).reshape(1,-1)\n",
    "\n",
    "clf.predict(x_test)"
   ]
  },
  {
   "cell_type": "markdown",
   "metadata": {},
   "source": [
    "a classe prevista é **1**, ou seja, espera=**SIM**"
   ]
  },
  {
   "cell_type": "code",
   "execution_count": 19,
   "metadata": {},
   "outputs": [
    {
     "data": {
      "text/plain": [
       "array([1])"
      ]
     },
     "execution_count": 19,
     "metadata": {},
     "output_type": "execute_result"
    }
   ],
   "source": [
    "# item B\n",
    "from sklearn.preprocessing import OneHotEncoder\n",
    "from sklearn.neighbors import KNeighborsClassifier\n",
    "\n",
    "# função de distância escolhida só funciona com features binárias,\n",
    "# ou seja, one hot encoded.\n",
    "enc = OneHotEncoder()\n",
    "encoded_ohe = enc.fit_transform(encoded[:,:4]).todense()\n",
    "\n",
    "# [1,1,1,3] = [sim,sim,alguns,italiano]\n",
    "x_test = np.array([1,1,2,3]).reshape(1,-1)\n",
    "\n",
    "test_ohe = enc.transform(x_test).todense()\n",
    "\n",
    "# using \"matching\" metric to match what's been described in the\n",
    "# test description\n",
    "clf = KNeighborsClassifier(n_neighbors=3,metric=\"matching\")\n",
    "\n",
    "clf.fit(encoded_ohe,encoded[:,-1])\n",
    "\n",
    "clf.predict(test_ohe)"
   ]
  },
  {
   "cell_type": "markdown",
   "metadata": {},
   "source": [
    "De acordo com o método kNN, a classe prevista para o caso de teste é **1**, ou seja, **espera=sim**."
   ]
  },
  {
   "cell_type": "markdown",
   "metadata": {},
   "source": [
    "## questão 7"
   ]
  },
  {
   "cell_type": "code",
   "execution_count": null,
   "metadata": {
    "collapsed": true
   },
   "outputs": [],
   "source": []
  },
  {
   "cell_type": "markdown",
   "metadata": {},
   "source": [
    "## questão 8"
   ]
  },
  {
   "cell_type": "code",
   "execution_count": null,
   "metadata": {
    "collapsed": true
   },
   "outputs": [],
   "source": []
  },
  {
   "cell_type": "markdown",
   "metadata": {},
   "source": [
    "## questão 9"
   ]
  },
  {
   "cell_type": "code",
   "execution_count": null,
   "metadata": {
    "collapsed": true
   },
   "outputs": [],
   "source": []
  },
  {
   "cell_type": "markdown",
   "metadata": {},
   "source": [
    "## questão 10"
   ]
  },
  {
   "cell_type": "markdown",
   "metadata": {},
   "source": [
    "- (V)\n",
    "- (F) - Falso - o hdfs é o sistema de arquivos usado pelo hadoop\n",
    "- (V) - Verdadeiro, mas o dialeto de SQL usado (HiveQL) não segue 100% o padrão SQL\n",
    "- (V) - Verdadeiro, a menos que se use mais de um name node\n",
    "- (V) - Verdadeiro, se o Spark for inicializado com suporte ao Hive\n",
    "- (F) - Falso - há projetos que integram os dois, mas não de forma nativa\n",
    "- (F) - Falso - essa funcionalidade é feita justamente para que se possa usar scripts feitos em qualquer linguagem pelo Hadoop\n",
    "- (F) - Falso - o Hive tem um otimizador/planejador de consultas mas é possível otimizar a forma como as consultas são escritas, por exemplo usar GROUP BY primeiro por um atributo com cardinalidade alta, pois isso permite que o dado seja bem particionado, logo o job pode ser distribuído em vários nós.\n",
    "-  (V) Verdadeiro - se o resultado de um passo do seu processo no Spark resultar em uma única partição,  Spark só vai conseguir utilizar um nó para processar o próximo passo. Uma alternativa é forçar um shuffle para que o dado seja re-particionado em várias partes novamente.\n",
    "- (F) - Falso - o YARN também pode ser usado para gerenciar recursos de um cluster Hadoop"
   ]
  },
  {
   "cell_type": "code",
   "execution_count": null,
   "metadata": {
    "collapsed": true
   },
   "outputs": [],
   "source": []
  }
 ],
 "metadata": {
  "kernelspec": {
   "display_name": "Global TF Kernel (Python 3)",
   "language": "python",
   "name": "global-tf-python-3"
  },
  "language_info": {
   "codemirror_mode": {
    "name": "ipython",
    "version": 3
   },
   "file_extension": ".py",
   "mimetype": "text/x-python",
   "name": "python",
   "nbconvert_exporter": "python",
   "pygments_lexer": "ipython3",
   "version": "3.5.2"
  }
 },
 "nbformat": 4,
 "nbformat_minor": 2
}
