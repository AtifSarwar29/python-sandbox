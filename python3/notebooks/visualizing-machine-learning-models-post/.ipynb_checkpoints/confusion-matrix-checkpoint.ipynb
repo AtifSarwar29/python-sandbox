{
 "cells": [
  {
   "cell_type": "code",
   "execution_count": 3,
   "metadata": {
    "collapsed": true
   },
   "outputs": [],
   "source": [
    "import numpy as np\n",
    "import itertools\n",
    "import sklearn\n",
    "import matplotlib\n",
    "\n",
    "import matplotlib.pyplot as plt\n",
    "\n",
    "from sklearn.datasets import make_classification\n",
    "from sklearn.model_selection import train_test_split\n",
    "from sklearn.metrics import confusion_matrix\n",
    "\n",
    "from xgboost import XGBClassifier"
   ]
  },
  {
   "cell_type": "code",
   "execution_count": 4,
   "metadata": {},
   "outputs": [
    {
     "data": {
      "text/plain": [
       "('0.20.3', '2.1.0', '1.16.2')"
      ]
     },
     "execution_count": 4,
     "metadata": {},
     "output_type": "execute_result"
    }
   ],
   "source": [
    "sklearn.__version__, matplotlib.__version__, np.__version__"
   ]
  },
  {
   "cell_type": "code",
   "execution_count": null,
   "metadata": {},
   "outputs": [],
   "source": [
    "# using random data for this exaple\n",
    "X, y = make_classification(\n",
    "    n_samples=10000, \n",
    "    n_features=25,\n",
    "    n_informative=10,\n",
    "    n_redundant=0,\n",
    "    n_classes=5)\n",
    "\n",
    "class_names = ['class-1','class-2','class-3','class-4','class-5']\n",
    "\n",
    "X_train, X_test, y_train, y_test = train_test_split(X, y, test_size=0.33)\n",
    "\n",
    "clf = XGBClassifier()\n",
    "clf.fit(X_train,y_train)\n",
    "\n",
    "y_pred = clf.predict(X_test)\n",
    "\n",
    "matrix = confusion_matrix(y_test,y_pred)\n",
    "   \n",
    "plt.clf()\n",
    "\n",
    "# place labels at the top\n",
    "plt.gca().xaxis.tick_top()\n",
    "plt.gca().xaxis.set_label_position('top')\n",
    "\n",
    "# plot the matrix per se\n",
    "plt.imshow(matrix, interpolation='nearest', cmap=plt.cm.Blues)\n",
    "\n",
    "# plot colorbar to the right\n",
    "plt.colorbar()\n",
    "    \n",
    "fmt = 'd'\n",
    "\n",
    "# write the number of predictions in each bucket\n",
    "thresh = matrix.max() / 2.\n",
    "for i, j in itertools.product(range(matrix.shape[0]), range(matrix.shape[1])):\n",
    "\n",
    "    # if background is dark, use a white number, and vice-versa\n",
    "    plt.text(j, i, format(matrix[i, j], fmt),\n",
    "         horizontalalignment=\"center\",\n",
    "         color=\"white\" if matrix[i, j] > thresh else \"black\")\n",
    "    \n",
    "tick_marks = np.arange(len(class_names))\n",
    "plt.xticks(tick_marks, class_names, rotation=45)\n",
    "plt.yticks(tick_marks, class_names)\n",
    "plt.tight_layout()\n",
    "plt.ylabel('True label',size=14)\n",
    "plt.xlabel('Predicted label',size=14)\n",
    "plt.show()"
   ]
  }
 ],
 "metadata": {
  "kernelspec": {
   "display_name": "Global TF Kernel (Python 3)",
   "language": "python",
   "name": "global-tf-python-3"
  },
  "language_info": {
   "codemirror_mode": {
    "name": "ipython",
    "version": 3
   },
   "file_extension": ".py",
   "mimetype": "text/x-python",
   "name": "python",
   "nbconvert_exporter": "python",
   "pygments_lexer": "ipython3",
   "version": "3.5.2"
  }
 },
 "nbformat": 4,
 "nbformat_minor": 2
}
