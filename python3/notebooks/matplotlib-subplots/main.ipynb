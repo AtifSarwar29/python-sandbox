{
 "cells": [
  {
   "cell_type": "code",
   "execution_count": 5,
   "metadata": {},
   "outputs": [],
   "source": [
    "import matplotlib\n",
    "import matplotlib.pyplot as plt\n",
    "\n",
    "import numpy as np\n",
    "import pandas as pd"
   ]
  },
  {
   "cell_type": "code",
   "execution_count": 6,
   "metadata": {},
   "outputs": [
    {
     "data": {
      "text/plain": [
       "('3.2.1', '1.18.2', '1.0.3')"
      ]
     },
     "execution_count": 6,
     "metadata": {},
     "output_type": "execute_result"
    }
   ],
   "source": [
    "matplotlib.__version__, np.__version__, pd.__version__"
   ]
  },
  {
   "cell_type": "markdown",
   "metadata": {},
   "source": [
    "## 2 Plots side by side"
   ]
  },
  {
   "cell_type": "code",
   "execution_count": 16,
   "metadata": {},
   "outputs": [
    {
     "data": {
      "text/plain": [
       "<Figure size 432x288 with 0 Axes>"
      ]
     },
     "metadata": {},
     "output_type": "display_data"
    },
    {
     "data": {
      "image/png": "[encoded data removed]",
      "text/plain": [
       "<Figure size 720x360 with 2 Axes>"
      ]
     },
     "metadata": {
      "needs_background": "light"
     },
     "output_type": "display_data"
    }
   ],
   "source": [
    "plt.clf()\n",
    "\n",
    "# sample data\n",
    "x = np.linspace(0.0,100,50)\n",
    "y = np.random.uniform(low=0,high=10,size=50)\n",
    "\n",
    "# create figure and axes\n",
    "fig, axes = plt.subplots(1,2)\n",
    "\n",
    "ax1 = axes[0]\n",
    "ax2 = axes[1]\n",
    "\n",
    "# just plot things on each individual axes\n",
    "ax1.scatter(x,y,c='red',marker='+')\n",
    "ax2.bar(x,y)\n",
    "\n",
    "plt.gcf().set_size_inches(10,5)\n",
    "plt.show()"
   ]
  },
  {
   "cell_type": "markdown",
   "metadata": {},
   "source": [
    "## 2 plots one on top of the other"
   ]
  },
  {
   "cell_type": "code",
   "execution_count": 19,
   "metadata": {},
   "outputs": [
    {
     "data": {
      "text/plain": [
       "<Figure size 432x288 with 0 Axes>"
      ]
     },
     "metadata": {},
     "output_type": "display_data"
    },
    {
     "data": {
      "image/png": "[encoded data removed]",
      "text/plain": [
       "<Figure size 360x360 with 2 Axes>"
      ]
     },
     "metadata": {
      "needs_background": "light"
     },
     "output_type": "display_data"
    }
   ],
   "source": [
    "plt.clf()\n",
    "\n",
    "# sample data\n",
    "x = np.linspace(0.0,100,50)\n",
    "y = np.random.uniform(low=0,high=10,size=50)\n",
    "\n",
    "# create figure and axes\n",
    "fig, axes = plt.subplots(2,1)\n",
    "\n",
    "ax1 = axes[0]\n",
    "ax2 = axes[1]\n",
    "\n",
    "# just plot things on each individual axes\n",
    "ax1.scatter(x,y,c='red',marker='+')\n",
    "ax2.bar(x,y)\n",
    "\n",
    "plt.gcf().set_size_inches(5,5)\n",
    "plt.show()"
   ]
  },
  {
   "cell_type": "markdown",
   "metadata": {},
   "source": [
    "## 4 plots in a grid"
   ]
  },
  {
   "cell_type": "code",
   "execution_count": 27,
   "metadata": {},
   "outputs": [
    {
     "data": {
      "image/png": "[encoded data removed]",
      "text/plain": [
       "<Figure size 360x360 with 4 Axes>"
      ]
     },
     "metadata": {
      "needs_background": "light"
     },
     "output_type": "display_data"
    }
   ],
   "source": [
    "import numpy as np\n",
    "import matplotlib.pyplot as plt\n",
    "\n",
    "x = np.linspace(0.0,100,50)\n",
    "y = np.random.uniform(low=0,high=10,size=50)\n",
    "\n",
    "# plt.subplots returns an array of arrays. We can\n",
    "# directly assign those to variables directly\n",
    "# like this\n",
    "fig, ((ax1,ax2),(ax3,ax4)) = plt.subplots(2,2)\n",
    "\n",
    "# just plot things on each individual axes\n",
    "ax1.scatter(x,y,c='red',marker='+')\n",
    "ax2.bar(x,y)\n",
    "ax3.scatter(x,y,marker='x')\n",
    "ax4.barh(x,y)\n",
    "\n",
    "plt.gcf().set_size_inches(5,5)\n",
    "plt.show()"
   ]
  },
  {
   "cell_type": "markdown",
   "metadata": {},
   "source": [
    "## Pandas plots"
   ]
  },
  {
   "cell_type": "code",
   "execution_count": 66,
   "metadata": {},
   "outputs": [
    {
     "data": {
      "text/html": [
       "<div>\n",
       "<style scoped>\n",
       "    .dataframe tbody tr th:only-of-type {\n",
       "        vertical-align: middle;\n",
       "    }\n",
       "\n",
       "    .dataframe tbody tr th {\n",
       "        vertical-align: top;\n",
       "    }\n",
       "\n",
       "    .dataframe thead th {\n",
       "        text-align: right;\n",
       "    }\n",
       "</style>\n",
       "<table border=\"1\" class=\"dataframe\">\n",
       "  <thead>\n",
       "    <tr style=\"text-align: right;\">\n",
       "      <th></th>\n",
       "      <th>string_col</th>\n",
       "      <th>x</th>\n",
       "      <th>y</th>\n",
       "    </tr>\n",
       "  </thead>\n",
       "  <tbody>\n",
       "    <tr>\n",
       "      <th>0</th>\n",
       "      <td>foo</td>\n",
       "      <td>10</td>\n",
       "      <td>1</td>\n",
       "    </tr>\n",
       "    <tr>\n",
       "      <th>1</th>\n",
       "      <td>bar</td>\n",
       "      <td>20</td>\n",
       "      <td>2</td>\n",
       "    </tr>\n",
       "    <tr>\n",
       "      <th>2</th>\n",
       "      <td>baz</td>\n",
       "      <td>30</td>\n",
       "      <td>3</td>\n",
       "    </tr>\n",
       "    <tr>\n",
       "      <th>3</th>\n",
       "      <td>quux</td>\n",
       "      <td>40</td>\n",
       "      <td>4</td>\n",
       "    </tr>\n",
       "  </tbody>\n",
       "</table>\n",
       "</div>"
      ],
      "text/plain": [
       "  string_col   x  y\n",
       "0        foo  10  1\n",
       "1        bar  20  2\n",
       "2        baz  30  3\n",
       "3       quux  40  4"
      ]
     },
     "execution_count": 66,
     "metadata": {},
     "output_type": "execute_result"
    }
   ],
   "source": [
    "import matplotlib.pyplot as plt\n",
    "import pandas as pd\n",
    "\n",
    "\n",
    "df = pd.DataFrame({\n",
    "    'string_col':['foo','bar','baz','quux'],\n",
    "    'x':[10,20,30,40],\n",
    "    'y':[1,2,3,4]\n",
    "})\n",
    "\n",
    "df"
   ]
  },
  {
   "cell_type": "code",
   "execution_count": 69,
   "metadata": {},
   "outputs": [
    {
     "data": {
      "text/plain": [
       "<Figure size 432x288 with 0 Axes>"
      ]
     },
     "metadata": {},
     "output_type": "display_data"
    },
    {
     "data": {
      "image/png": "[encoded data removed]",
      "text/plain": [
       "<Figure size 432x288 with 4 Axes>"
      ]
     },
     "metadata": {
      "needs_background": "light"
     },
     "output_type": "display_data"
    }
   ],
   "source": [
    "plt.clf()\n",
    "# plt.subplots returns an array of arrays. We can\n",
    "# directly assign those to variables directly\n",
    "fig, ((ax1,ax2),(ax3,ax4)) = plt.subplots(2,2)\n",
    "\n",
    "# bar plot for column 'x'\n",
    "df.plot(y='x', kind='bar', ax=ax1)\n",
    "ax1.set_xlabel('index')\n",
    "\n",
    "# horizontal bar plot for column 'y'\n",
    "df.plot(y='y', kind='bar', ax=ax2, color='orange')\n",
    "ax2.set_xlabel('index')\n",
    "\n",
    "# both columns in a scatter plot\n",
    "df.plot('x','y', kind='scatter', ax=ax3)\n",
    "\n",
    "# to have two lines, plot twice in the same axis\n",
    "df.plot(y='x', kind='line', ax=ax4)\n",
    "df.plot(y='y', kind='line', ax=ax4)\n",
    "ax4.set_xlabel('index')\n",
    "\n",
    "plt.subplots_adjust(wspace=0.3, hspace=0.5)\n",
    "\n",
    "plt.show()"
   ]
  },
  {
   "cell_type": "markdown",
   "metadata": {},
   "source": [
    "## Set subplot title"
   ]
  },
  {
   "cell_type": "code",
   "execution_count": 78,
   "metadata": {},
   "outputs": [
    {
     "data": {
      "text/plain": [
       "<Figure size 432x288 with 0 Axes>"
      ]
     },
     "metadata": {},
     "output_type": "display_data"
    },
    {
     "data": {
      "image/png": "[encoded data removed]",
      "text/plain": [
       "<Figure size 432x288 with 4 Axes>"
      ]
     },
     "metadata": {
      "needs_background": "light"
     },
     "output_type": "display_data"
    }
   ],
   "source": [
    "plt.clf()\n",
    "\n",
    "# plt.subplots returns an array of arrays. We can\n",
    "# directly assign those to variables directly\n",
    "fig, ((ax1,ax2),(ax3,ax4)) = plt.subplots(2,2)\n",
    "\n",
    "# sample data\n",
    "x = np.linspace(0.0,100,50)\n",
    "y = np.random.uniform(low=0,high=10,size=50)\n",
    "\n",
    "# plot individual subplots\n",
    "ax1.bar(x,y)\n",
    "ax2.bar(x,y)\n",
    "ax3.scatter(x,y)\n",
    "ax4.plot(x)\n",
    "\n",
    "ax4.set_title('This is Plot 4',size=14)\n",
    "\n",
    "plt.subplots_adjust(wspace=0.3, hspace=0.5)\n",
    "\n",
    "plt.show()"
   ]
  },
  {
   "cell_type": "markdown",
   "metadata": {},
   "source": [
    "## Padding"
   ]
  },
  {
   "cell_type": "code",
   "execution_count": 80,
   "metadata": {},
   "outputs": [
    {
     "data": {
      "image/png": "[encoded data removed]",
      "text/plain": [
       "<Figure size 432x288 with 4 Axes>"
      ]
     },
     "metadata": {
      "needs_background": "light"
     },
     "output_type": "display_data"
    }
   ],
   "source": [
    "import numpy as np\n",
    "import matplotlib.pyplot as plt\n",
    "\n",
    "# sample data\n",
    "x = np.linspace(0.0,100,50)\n",
    "y = np.random.uniform(low=0,high=10,size=50)\n",
    "\n",
    "# plt.subplots returns an array of arrays. We can\n",
    "# directly assign those to variables directly\n",
    "fig, ((ax1,ax2),(ax3,ax4)) = plt.subplots(2,2)\n",
    "\n",
    "# just plot things on each individual axes\n",
    "ax1.scatter(x,y,c='red',marker='+')\n",
    "ax2.bar(x,y)\n",
    "ax3.scatter(x,y,marker='x')\n",
    "ax4.barh(x,y)\n",
    "\n",
    "# here, set the width and the height between the subplots\n",
    "# the default value is 0.2 for each\n",
    "plt.subplots_adjust(wspace=0.50, hspace=1.0)\n",
    "\n",
    "plt.show()"
   ]
  },
  {
   "cell_type": "markdown",
   "metadata": {},
   "source": [
    "## Align axes"
   ]
  },
  {
   "cell_type": "code",
   "execution_count": 101,
   "metadata": {},
   "outputs": [
    {
     "data": {
      "text/plain": [
       "<Figure size 432x288 with 0 Axes>"
      ]
     },
     "metadata": {},
     "output_type": "display_data"
    },
    {
     "data": {
      "image/png": "[encoded data removed]",
      "text/plain": [
       "<Figure size 432x288 with 2 Axes>"
      ]
     },
     "metadata": {
      "needs_background": "light"
     },
     "output_type": "display_data"
    }
   ],
   "source": [
    "import numpy as np\n",
    "import matplotlib.pyplot as plt\n",
    "\n",
    "plt.clf()\n",
    "# plt.subplots returns an array of arrays. We can\n",
    "# directly assign those to variables directly\n",
    "fig, ((ax1,ax2)) = plt.subplots(1,2)\n",
    "\n",
    "np.random.seed(42)\n",
    "\n",
    "x = np.linspace(0.0,100,50)\n",
    "\n",
    "# sample data in different magnitudes\n",
    "y1 = np.random.normal(loc=10, scale=2, size=10)\n",
    "y2 = np.random.normal(loc=20, scale=2, size=10)\n",
    "\n",
    "ax1.plot(y1)\n",
    "ax2.plot(y2)\n",
    "\n",
    "ax1.grid(True,alpha=0.3)\n",
    "ax2.grid(True,alpha=0.3)\n",
    "\n",
    "ax1.set_ylim(0,25)\n",
    "ax2.set_ylim(0,25)\n",
    "\n",
    "plt.subplots_adjust(wspace=0.3, hspace=0.5)\n",
    "\n",
    "plt.show()"
   ]
  }
 ],
 "metadata": {
  "kernelspec": {
   "display_name": "Python 3",
   "language": "python",
   "name": "python3"
  },
  "language_info": {
   "codemirror_mode": {
    "name": "ipython",
    "version": 3
   },
   "file_extension": ".py",
   "mimetype": "text/x-python",
   "name": "python",
   "nbconvert_exporter": "python",
   "pygments_lexer": "ipython3",
   "version": "3.6.9"
  },
  "toc": {
   "base_numbering": 1,
   "nav_menu": {},
   "number_sections": true,
   "sideBar": true,
   "skip_h1_title": false,
   "title_cell": "Table of Contents",
   "title_sidebar": "Contents",
   "toc_cell": false,
   "toc_position": {},
   "toc_section_display": true,
   "toc_window_display": false
  }
 },
 "nbformat": 4,
 "nbformat_minor": 4
}
