{
 "cells": [
  {
   "cell_type": "code",
   "execution_count": 10,
   "metadata": {},
   "outputs": [
    {
     "data": {
      "text/plain": [
       "{'__name__': '__main__',\n",
       " '__doc__': 'Automatically created module for IPython interactive environment',\n",
       " '__package__': None,\n",
       " '__loader__': None,\n",
       " '__spec__': None,\n",
       " '__builtin__': <module 'builtins' (built-in)>,\n",
       " '__builtins__': <module 'builtins' (built-in)>,\n",
       " '_ih': ['',\n",
       "  'globals()',\n",
       "  \"pd.get_option('display.max_colwidth')\",\n",
       "  \"get_ipython().run_line_magic('whos', '')\",\n",
       "  'globals()',\n",
       "  \"get_ipython().run_line_magic('whos', '')\",\n",
       "  'globals()',\n",
       "  'globals()',\n",
       "  'globals()',\n",
       "  'globals()',\n",
       "  'globals()'],\n",
       " '_oh': {1: {...}, 2: 500, 4: {...}, 6: {...}, 7: {...}, 8: {...}, 9: {...}},\n",
       " '_dh': ['/home/felipe/python-sandbox/python3/notebooks'],\n",
       " 'In': ['',\n",
       "  'globals()',\n",
       "  \"pd.get_option('display.max_colwidth')\",\n",
       "  \"get_ipython().run_line_magic('whos', '')\",\n",
       "  'globals()',\n",
       "  \"get_ipython().run_line_magic('whos', '')\",\n",
       "  'globals()',\n",
       "  'globals()',\n",
       "  'globals()',\n",
       "  'globals()',\n",
       "  'globals()'],\n",
       " 'Out': {1: {...}, 2: 500, 4: {...}, 6: {...}, 7: {...}, 8: {...}, 9: {...}},\n",
       " 'get_ipython': <bound method InteractiveShell.get_ipython of <ipykernel.zmqshell.ZMQInteractiveShell object at 0x7f91639d22b0>>,\n",
       " 'exit': <IPython.core.autocall.ZMQExitAutocall at 0x7f91639f4748>,\n",
       " 'quit': <IPython.core.autocall.ZMQExitAutocall at 0x7f91639f4748>,\n",
       " '_': {...},\n",
       " '__': {...},\n",
       " '___': {...},\n",
       " 'pd': <module 'pandas' from '/home/felipe/sandbox/venv/lib/python3.6/site-packages/pandas/__init__.py'>,\n",
       " 'np': <module 'numpy' from '/home/felipe/sandbox/venv/lib/python3.6/site-packages/numpy/__init__.py'>,\n",
       " 'plt': <module 'matplotlib.pyplot' from '/home/felipe/sandbox/venv/lib/python3.6/site-packages/matplotlib/pyplot.py'>,\n",
       " '_i': 'globals()',\n",
       " '_ii': 'globals()',\n",
       " '_iii': 'globals()',\n",
       " '_i1': 'globals()',\n",
       " '_1': {...},\n",
       " '_i2': \"pd.get_option('display.max_colwidth')\",\n",
       " '_2': 500,\n",
       " '_i3': '%whos',\n",
       " '_i4': 'globals()',\n",
       " '_4': {...},\n",
       " '_i5': '%whos',\n",
       " '_i6': 'globals()',\n",
       " '_6': {...},\n",
       " '_i7': 'globals()',\n",
       " '_7': {...},\n",
       " '_i8': 'globals()',\n",
       " '_8': {...},\n",
       " '_i9': 'globals()',\n",
       " '_9': {...},\n",
       " '_i10': 'globals()'}"
      ]
     },
     "execution_count": 10,
     "metadata": {},
     "output_type": "execute_result"
    }
   ],
   "source": [
    "globals()"
   ]
  },
  {
   "cell_type": "code",
   "execution_count": 5,
   "metadata": {},
   "outputs": [
    {
     "name": "stdout",
     "output_type": "stream",
     "text": [
      "Interactive namespace is empty.\n"
     ]
    }
   ],
   "source": [
    "%whos"
   ]
  },
  {
   "cell_type": "code",
   "execution_count": null,
   "metadata": {},
   "outputs": [],
   "source": []
  }
 ],
 "metadata": {
  "kernelspec": {
   "display_name": "Python 3",
   "language": "python",
   "name": "python3"
  },
  "language_info": {
   "codemirror_mode": {
    "name": "ipython",
    "version": 3
   },
   "file_extension": ".py",
   "mimetype": "text/x-python",
   "name": "python",
   "nbconvert_exporter": "python",
   "pygments_lexer": "ipython3",
   "version": "3.6.7"
  }
 },
 "nbformat": 4,
 "nbformat_minor": 2
}
