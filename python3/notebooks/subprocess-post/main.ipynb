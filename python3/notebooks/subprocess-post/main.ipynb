{
 "cells": [
  {
   "cell_type": "code",
   "execution_count": 1,
   "metadata": {},
   "outputs": [
    {
     "data": {
      "text/plain": [
       "sys.version_info(major=3, minor=6, micro=7, releaselevel='final', serial=0)"
      ]
     },
     "execution_count": 1,
     "metadata": {},
     "output_type": "execute_result"
    }
   ],
   "source": [
    "import sys\n",
    "sys.version\n",
    "sys.version_info"
   ]
  },
  {
   "cell_type": "code",
   "execution_count": 2,
   "metadata": {
    "collapsed": true
   },
   "outputs": [],
   "source": [
    "import subprocess"
   ]
  },
  {
   "cell_type": "markdown",
   "metadata": {},
   "source": [
    "## call example"
   ]
  },
  {
   "cell_type": "code",
   "execution_count": 3,
   "metadata": {
    "scrolled": true
   },
   "outputs": [
    {
     "data": {
      "text/plain": [
       "0"
      ]
     },
     "execution_count": 3,
     "metadata": {},
     "output_type": "execute_result"
    }
   ],
   "source": [
    "# returns return code only\n",
    "subprocess.call([\"ls\", \"-lha\"])"
   ]
  },
  {
   "cell_type": "markdown",
   "metadata": {},
   "source": [
    "note that no exception is raised if the underlying command errors:\n",
    "\n",
    "`bash-script-with-bad-syntax` is a shell script with bad syntax."
   ]
  },
  {
   "cell_type": "code",
   "execution_count": 7,
   "metadata": {},
   "outputs": [
    {
     "data": {
      "text/plain": [
       "127"
      ]
     },
     "execution_count": 7,
     "metadata": {},
     "output_type": "execute_result"
    }
   ],
   "source": [
    "subprocess.call([\"./bash-script-with-bad-syntax\"])"
   ]
  },
  {
   "cell_type": "markdown",
   "metadata": {},
   "source": [
    "## call() example using shell=True"
   ]
  },
  {
   "cell_type": "code",
   "execution_count": 4,
   "metadata": {},
   "outputs": [
    {
     "data": {
      "text/plain": [
       "0"
      ]
     },
     "execution_count": 4,
     "metadata": {},
     "output_type": "execute_result"
    }
   ],
   "source": [
    "subprocess.call(\"ls -lha\", shell=True)"
   ]
  },
  {
   "cell_type": "markdown",
   "metadata": {},
   "source": [
    "## call example capture standard output and error"
   ]
  },
  {
   "cell_type": "code",
   "execution_count": 6,
   "metadata": {},
   "outputs": [
    {
     "data": {
      "text/plain": [
       "127"
      ]
     },
     "execution_count": 6,
     "metadata": {},
     "output_type": "execute_result"
    }
   ],
   "source": [
    "subprocess.call([\"./bash-script-with-bad-syntax\"])"
   ]
  },
  {
   "cell_type": "markdown",
   "metadata": {},
   "source": [
    "## call example, force exception if called process causes error"
   ]
  },
  {
   "cell_type": "code",
   "execution_count": 8,
   "metadata": {},
   "outputs": [
    {
     "data": {
      "text/plain": [
       "0"
      ]
     },
     "execution_count": 8,
     "metadata": {},
     "output_type": "execute_result"
    }
   ],
   "source": [
    "# if there's no error in the underlying process,\n",
    "# this is just the same as subprocess.call\n",
    "subprocess.check_call([\"ls\",\"-lha\"])"
   ]
  },
  {
   "cell_type": "code",
   "execution_count": 32,
   "metadata": {},
   "outputs": [
    {
     "ename": "CalledProcessError",
     "evalue": "Command '['./bash-script-with-bad-syntax']' returned non-zero exit status 127.",
     "output_type": "error",
     "traceback": [
      "\u001b[0;31m-------------------------------------------------------------------\u001b[0m",
      "\u001b[0;31mCalledProcessError\u001b[0m                Traceback (most recent call last)",
      "\u001b[0;32m<ipython-input-32-e87152a9901c>\u001b[0m in \u001b[0;36m<module>\u001b[0;34m\u001b[0m\n\u001b[1;32m      1\u001b[0m \u001b[0;31m# but unlike call, this throws a Called\u001b[0m\u001b[0;34m\u001b[0m\u001b[0;34m\u001b[0m\u001b[0;34m\u001b[0m\u001b[0m\n\u001b[0;32m----> 2\u001b[0;31m \u001b[0msubprocess\u001b[0m\u001b[0;34m.\u001b[0m\u001b[0mcheck_call\u001b[0m\u001b[0;34m(\u001b[0m\u001b[0;34m[\u001b[0m\u001b[0;34m\"./bash-script-with-bad-syntax\"\u001b[0m\u001b[0;34m]\u001b[0m\u001b[0;34m)\u001b[0m\u001b[0;34m\u001b[0m\u001b[0;34m\u001b[0m\u001b[0m\n\u001b[0m",
      "\u001b[0;32m/usr/lib/python3.6/subprocess.py\u001b[0m in \u001b[0;36mcheck_call\u001b[0;34m(*popenargs, **kwargs)\u001b[0m\n\u001b[1;32m    289\u001b[0m         \u001b[0;32mif\u001b[0m \u001b[0mcmd\u001b[0m \u001b[0;32mis\u001b[0m \u001b[0;32mNone\u001b[0m\u001b[0;34m:\u001b[0m\u001b[0;34m\u001b[0m\u001b[0;34m\u001b[0m\u001b[0m\n\u001b[1;32m    290\u001b[0m             \u001b[0mcmd\u001b[0m \u001b[0;34m=\u001b[0m \u001b[0mpopenargs\u001b[0m\u001b[0;34m[\u001b[0m\u001b[0;36m0\u001b[0m\u001b[0;34m]\u001b[0m\u001b[0;34m\u001b[0m\u001b[0;34m\u001b[0m\u001b[0m\n\u001b[0;32m--> 291\u001b[0;31m         \u001b[0;32mraise\u001b[0m \u001b[0mCalledProcessError\u001b[0m\u001b[0;34m(\u001b[0m\u001b[0mretcode\u001b[0m\u001b[0;34m,\u001b[0m \u001b[0mcmd\u001b[0m\u001b[0;34m)\u001b[0m\u001b[0;34m\u001b[0m\u001b[0;34m\u001b[0m\u001b[0m\n\u001b[0m\u001b[1;32m    292\u001b[0m     \u001b[0;32mreturn\u001b[0m \u001b[0;36m0\u001b[0m\u001b[0;34m\u001b[0m\u001b[0;34m\u001b[0m\u001b[0m\n\u001b[1;32m    293\u001b[0m \u001b[0;34m\u001b[0m\u001b[0m\n",
      "\u001b[0;31mCalledProcessError\u001b[0m: Command '['./bash-script-with-bad-syntax']' returned non-zero exit status 127."
     ]
    }
   ],
   "source": [
    "# but unlike call, this throws a Called\n",
    "subprocess.check_call([\"./bash-script-with-bad-syntax\"])"
   ]
  },
  {
   "cell_type": "markdown",
   "metadata": {},
   "source": [
    "## call example, capture stfout and stderr"
   ]
  },
  {
   "cell_type": "code",
   "execution_count": 29,
   "metadata": {},
   "outputs": [
    {
     "name": "stdout",
     "output_type": "stream",
     "text": [
      "output:\n",
      "total 48K\n",
      "drwxrwxr-x  3 felipe felipe 4,0K Mar 28 23:28 .\n",
      "drwxrwxr-x 48 felipe felipe 4,0K Mar 25 23:29 ..\n",
      "-rwxrwxr-x  1 felipe felipe   41 Mar 28 21:20 bash-script-with-bad-syntax\n",
      "-rw-rw-r--  1 felipe felipe  337 Mar 28 23:22 cmd.py\n",
      "-rw-r--r--  1 felipe felipe  12K Mar 28 23:26 .cmd.py.swp\n",
      "-rw-rw-r--  1 felipe felipe    0 Mar 28 23:28 err.txt\n",
      "drwxrwxr-x  2 felipe felipe 4,0K Nov  3 19:32 .ipynb_checkpoints\n",
      "-rw-rw-r--  1 felipe felipe  14K Mar 28 23:28 main.ipynb\n",
      "-rw-rw-r--  1 felipe felipe    0 Mar 28 23:28 out.txt\n",
      "\n",
      "error:\n",
      "./bash-script-with-bad-syntax: line 4: foo: command not found\n",
      "\n"
     ]
    }
   ],
   "source": [
    "import subprocess\n",
    "import sys\n",
    "\n",
    "# create two files to hold the output and errors, respectively\n",
    "with open('out.txt','w+') as fout:\n",
    "    with open('err.txt','w+') as ferr:\n",
    "        out=subprocess.call([\"./bash-script-with-bad-syntax\"],stdout=fout,stderr=ferr)\n",
    "        # reset file to read from it\n",
    "        fout.seek(0)\n",
    "            \n",
    "        print('output:')\n",
    "        print(fout.read())\n",
    "        \n",
    "        # reset file to read from it\n",
    "        ferr.seek(0) \n",
    "        print('error:')\n",
    "        print(ferr.read())                              "
   ]
  },
  {
   "cell_type": "markdown",
   "metadata": {},
   "source": [
    "## store output in variable"
   ]
  },
  {
   "cell_type": "code",
   "execution_count": 33,
   "metadata": {},
   "outputs": [
    {
     "name": "stdout",
     "output_type": "stream",
     "text": [
      "total 56K\n",
      "drwxrwxr-x  3 felipe felipe 4,0K Mar 28 23:28 .\n",
      "drwxrwxr-x 48 felipe felipe 4,0K Mar 25 23:29 ..\n",
      "-rwxrwxr-x  1 felipe felipe   41 Mar 28 21:20 bash-script-with-bad-syntax\n",
      "-rw-rw-r--  1 felipe felipe  337 Mar 28 23:22 cmd.py\n",
      "-rw-r--r--  1 felipe felipe  12K Mar 28 23:26 .cmd.py.swp\n",
      "-rw-rw-r--  1 felipe felipe   62 Mar 28 23:28 err.txt\n",
      "drwxrwxr-x  2 felipe felipe 4,0K Nov  3 19:32 .ipynb_checkpoints\n",
      "-rw-rw-r--  1 felipe felipe  13K Mar 28 23:28 main.ipynb\n",
      "-rw-rw-r--  1 felipe felipe  522 Mar 28 23:28 out.txt\n",
      "\n"
     ]
    }
   ],
   "source": [
    "output = subprocess.check_output([\"ls\",\"-lha\"],universal_newlines=True)\n",
    "print(output)"
   ]
  },
  {
   "cell_type": "markdown",
   "metadata": {},
   "source": [
    "## run() examples"
   ]
  },
  {
   "cell_type": "code",
   "execution_count": 34,
   "metadata": {},
   "outputs": [
    {
     "data": {
      "text/plain": [
       "CompletedProcess(args=['ls', '-lha'], returncode=0)"
      ]
     },
     "execution_count": 34,
     "metadata": {},
     "output_type": "execute_result"
    }
   ],
   "source": [
    "cp = subprocess.run([\"ls\",\"-lha\"])\n",
    "cp"
   ]
  },
  {
   "cell_type": "code",
   "execution_count": 35,
   "metadata": {},
   "outputs": [
    {
     "data": {
      "text/plain": [
       "CompletedProcess(args=['ls -lha'], returncode=0)"
      ]
     },
     "execution_count": 35,
     "metadata": {},
     "output_type": "execute_result"
    }
   ],
   "source": [
    "cp = subprocess.run([\"ls -lha\"],shell=True)\n",
    "cp"
   ]
  },
  {
   "cell_type": "code",
   "execution_count": 51,
   "metadata": {},
   "outputs": [
    {
     "name": "stdout",
     "output_type": "stream",
     "text": [
      "CompletedProcess(args=['ls', '-lha'], returncode=0, stdout='total 60K\\ndrwxrwxr-x  3 felipe felipe 4,0K Mar 28 23:32 .\\ndrwxrwxr-x 48 felipe felipe 4,0K Mar 25 23:29 ..\\n-rwxrwxr-x  1 felipe felipe   41 Mar 28 21:20 bash-script-with-bad-syntax\\n-rw-rw-r--  1 felipe felipe  337 Mar 28 23:22 cmd.py\\n-rw-r--r--  1 felipe felipe  12K Mar 28 23:26 .cmd.py.swp\\n-rw-rw-r--  1 felipe felipe   62 Mar 28 23:28 err.txt\\ndrwxrwxr-x  2 felipe felipe 4,0K Nov  3 19:32 .ipynb_checkpoints\\n-rw-rw-r--  1 felipe felipe  18K Mar 28 23:32 main.ipynb\\n-rw-rw-r--  1 felipe felipe  522 Mar 28 23:28 out.txt\\n', stderr='')\n"
     ]
    }
   ],
   "source": [
    "cp = subprocess.run([\"ls\",\"-lha\"], universal_newlines=True,stdout=subprocess.PIPE, stderr=subprocess.PIPE)\n",
    "print(cp)"
   ]
  },
  {
   "cell_type": "code",
   "execution_count": 37,
   "metadata": {},
   "outputs": [
    {
     "name": "stdout",
     "output_type": "stream",
     "text": [
      "\n",
      "ls: cannot access 'foo bar': No such file or directory\n",
      "\n"
     ]
    }
   ],
   "source": [
    "cp = subprocess.run([\"ls\",\"foo bar\"], stdout=subprocess.PIPE, stderr=subprocess.PIPE, universal_newlines=True)\n",
    "print(cp.stdout)\n",
    "print(cp.stderr)"
   ]
  },
  {
   "cell_type": "code",
   "execution_count": 52,
   "metadata": {},
   "outputs": [
    {
     "ename": "CalledProcessError",
     "evalue": "Command '['ls', 'foo bar']' returned non-zero exit status 2.",
     "output_type": "error",
     "traceback": [
      "\u001b[0;31m-------------------------------------------------------------------\u001b[0m",
      "\u001b[0;31mCalledProcessError\u001b[0m                Traceback (most recent call last)",
      "\u001b[0;32m<ipython-input-52-f2920e44b5b2>\u001b[0m in \u001b[0;36m<module>\u001b[0;34m\u001b[0m\n\u001b[0;32m----> 1\u001b[0;31m \u001b[0msubprocess\u001b[0m\u001b[0;34m.\u001b[0m\u001b[0mrun\u001b[0m\u001b[0;34m(\u001b[0m\u001b[0;34m[\u001b[0m\u001b[0;34m\"ls\"\u001b[0m\u001b[0;34m,\u001b[0m\u001b[0;34m\"foo bar\"\u001b[0m\u001b[0;34m]\u001b[0m\u001b[0;34m,\u001b[0m \u001b[0mcheck\u001b[0m\u001b[0;34m=\u001b[0m\u001b[0;32mTrue\u001b[0m\u001b[0;34m)\u001b[0m\u001b[0;34m\u001b[0m\u001b[0;34m\u001b[0m\u001b[0m\n\u001b[0m",
      "\u001b[0;32m/usr/lib/python3.6/subprocess.py\u001b[0m in \u001b[0;36mrun\u001b[0;34m(input, timeout, check, *popenargs, **kwargs)\u001b[0m\n\u001b[1;32m    416\u001b[0m         \u001b[0;32mif\u001b[0m \u001b[0mcheck\u001b[0m \u001b[0;32mand\u001b[0m \u001b[0mretcode\u001b[0m\u001b[0;34m:\u001b[0m\u001b[0;34m\u001b[0m\u001b[0;34m\u001b[0m\u001b[0m\n\u001b[1;32m    417\u001b[0m             raise CalledProcessError(retcode, process.args,\n\u001b[0;32m--> 418\u001b[0;31m                                      output=stdout, stderr=stderr)\n\u001b[0m\u001b[1;32m    419\u001b[0m     \u001b[0;32mreturn\u001b[0m \u001b[0mCompletedProcess\u001b[0m\u001b[0;34m(\u001b[0m\u001b[0mprocess\u001b[0m\u001b[0;34m.\u001b[0m\u001b[0margs\u001b[0m\u001b[0;34m,\u001b[0m \u001b[0mretcode\u001b[0m\u001b[0;34m,\u001b[0m \u001b[0mstdout\u001b[0m\u001b[0;34m,\u001b[0m \u001b[0mstderr\u001b[0m\u001b[0;34m)\u001b[0m\u001b[0;34m\u001b[0m\u001b[0;34m\u001b[0m\u001b[0m\n\u001b[1;32m    420\u001b[0m \u001b[0;34m\u001b[0m\u001b[0m\n",
      "\u001b[0;31mCalledProcessError\u001b[0m: Command '['ls', 'foo bar']' returned non-zero exit status 2."
     ]
    }
   ],
   "source": [
    "subprocess.run([\"ls\",\"foo bar\"], check=True)"
   ]
  },
  {
   "cell_type": "code",
   "execution_count": 38,
   "metadata": {},
   "outputs": [
    {
     "name": "stdout",
     "output_type": "stream",
     "text": [
      "[Errno 2] No such file or directory: 'xxxx': 'xxxx'\n"
     ]
    }
   ],
   "source": [
    "try:\n",
    "    cp = subprocess.run([\"xxxx\",\"foo bar\"], universal_newlines=True, stdout=subprocess.PIPE, stderr=subprocess.PIPE)\n",
    "except FileNotFoundError as e:\n",
    "    print(e)"
   ]
  },
  {
   "cell_type": "markdown",
   "metadata": {},
   "source": [
    "## popen"
   ]
  },
  {
   "cell_type": "code",
   "execution_count": 39,
   "metadata": {
    "collapsed": true
   },
   "outputs": [],
   "source": [
    "from subprocess import Popen"
   ]
  },
  {
   "cell_type": "code",
   "execution_count": 40,
   "metadata": {},
   "outputs": [
    {
     "data": {
      "text/plain": [
       "0"
      ]
     },
     "execution_count": 40,
     "metadata": {},
     "output_type": "execute_result"
    }
   ],
   "source": [
    "p = Popen([\"ls\",\"-lha\"])\n",
    "p.wait()"
   ]
  },
  {
   "cell_type": "code",
   "execution_count": 41,
   "metadata": {},
   "outputs": [
    {
     "name": "stdout",
     "output_type": "stream",
     "text": [
      "total 56K\n",
      "drwxrwxr-x  3 felipe felipe 4,0K Mar 28 23:28 .\n",
      "drwxrwxr-x 48 felipe felipe 4,0K Mar 25 23:29 ..\n",
      "-rwxrwxr-x  1 felipe felipe   41 Mar 28 21:20 bash-script-with-bad-syntax\n",
      "-rw-rw-r--  1 felipe felipe  337 Mar 28 23:22 cmd.py\n",
      "-rw-r--r--  1 felipe felipe  12K Mar 28 23:26 .cmd.py.swp\n",
      "-rw-rw-r--  1 felipe felipe   62 Mar 28 23:28 err.txt\n",
      "drwxrwxr-x  2 felipe felipe 4,0K Nov  3 19:32 .ipynb_checkpoints\n",
      "-rw-rw-r--  1 felipe felipe  13K Mar 28 23:28 main.ipynb\n",
      "-rw-rw-r--  1 felipe felipe  522 Mar 28 23:28 out.txt\n",
      "\n",
      "\n"
     ]
    }
   ],
   "source": [
    "p = Popen([\"ls\",\"-lha\"], stdout=subprocess.PIPE, stderr= subprocess.PIPE, universal_newlines=True)\n",
    "\n",
    "output, errors = p.communicate()\n",
    "\n",
    "print(output)\n",
    "print(errors)"
   ]
  },
  {
   "cell_type": "code",
   "execution_count": 42,
   "metadata": {},
   "outputs": [
    {
     "name": "stdout",
     "output_type": "stream",
     "text": [
      "None\n",
      "\n",
      "total 56K\n",
      "drwxrwxr-x  3 felipe felipe 4,0K Mar 28 23:28 .\n",
      "drwxrwxr-x 48 felipe felipe 4,0K Mar 25 23:29 ..\n",
      "-rwxrwxr-x  1 felipe felipe   41 Mar 28 21:20 bash-script-with-bad-syntax\n",
      "-rw-rw-r--  1 felipe felipe  337 Mar 28 23:22 cmd.py\n",
      "-rw-r--r--  1 felipe felipe  12K Mar 28 23:26 .cmd.py.swp\n",
      "-rw-rw-r--  1 felipe felipe   62 Mar 28 23:28 err.txt\n",
      "drwxrwxr-x  2 felipe felipe 4,0K Nov  3 19:32 .ipynb_checkpoints\n",
      "-rw-rw-r--  1 felipe felipe  13K Mar 28 23:28 main.ipynb\n",
      "-rw-rw-r--  1 felipe felipe  522 Mar 28 23:28 out.txt\n",
      "\n"
     ]
    }
   ],
   "source": [
    "path_to_output_file = '/tmp/myoutput.txt'\n",
    "\n",
    "myoutput = open(path_to_output_file,'w+')\n",
    "\n",
    "p = Popen([\"ls\",\"-lha\"], stdout=myoutput, stderr= subprocess.PIPE, universal_newlines=True)\n",
    "\n",
    "output, errors = p.communicate()\n",
    "\n",
    "print(output)\n",
    "print(errors)\n",
    "\n",
    "with open(path_to_output_file,\"r\") as f:\n",
    "    print(f.read())\n"
   ]
  },
  {
   "cell_type": "code",
   "execution_count": 43,
   "metadata": {},
   "outputs": [
    {
     "name": "stdout",
     "output_type": "stream",
     "text": [
      "None\n",
      "None\n",
      "ls: cannot access 'foo bar': No such file or directory\n",
      "\n"
     ]
    }
   ],
   "source": [
    "path_to_output_file = '/tmp/myoutput.txt'\n",
    "\n",
    "myoutput = open(path_to_output_file,'w+')\n",
    "\n",
    "p = Popen([\"ls\",\"foo bar\"], stdout=myoutput, stderr= myoutput, universal_newlines=True)\n",
    "\n",
    "output, errors = p.communicate()\n",
    "\n",
    "print(output)\n",
    "print(errors)\n",
    "\n",
    "with open(path_to_output_file,\"r\") as f:\n",
    "    print(f.read())"
   ]
  },
  {
   "cell_type": "markdown",
   "metadata": {},
   "source": [
    "## pipe commands together"
   ]
  },
  {
   "cell_type": "code",
   "execution_count": 44,
   "metadata": {},
   "outputs": [
    {
     "name": "stdout",
     "output_type": "stream",
     "text": [
      "drwxrwxr-x  2 felipe felipe 4,0K Nov  3 19:32 .ipynb_checkpoints\n",
      "-rw-rw-r--  1 felipe felipe  13K Mar 28 23:28 main.ipynb\n",
      "\n"
     ]
    }
   ],
   "source": [
    "from subprocess import Popen,PIPE\n",
    "\n",
    "# this is equivalent to ls -lha | grep \"ipynb\"\n",
    "p1 = Popen([\"ls\",\"-lha\"], stdout=PIPE)\n",
    "p2 = Popen([\"grep\", \"ipynb\"], stdin=p1.stdout, stdout=PIPE, universal_newlines=True)\n",
    "\n",
    "p1.stdout.close()\n",
    "\n",
    "output = p2.communicate()[0]\n",
    "\n",
    "print(output)"
   ]
  },
  {
   "cell_type": "markdown",
   "metadata": {},
   "source": [
    "## async"
   ]
  },
  {
   "cell_type": "code",
   "execution_count": 45,
   "metadata": {},
   "outputs": [
    {
     "name": "stdout",
     "output_type": "stream",
     "text": [
      "[return code: 0]\n",
      "\n",
      "[stdout: ]\n",
      "total 56K\n",
      "drwxrwxr-x  3 felipe felipe 4,0K Mar 28 23:28 .\n",
      "drwxrwxr-x 48 felipe felipe 4,0K Mar 25 23:29 ..\n",
      "-rwxrwxr-x  1 felipe felipe   41 Mar 28 21:20 bash-script-with-bad-syntax\n",
      "-rw-rw-r--  1 felipe felipe  337 Mar 28 23:22 cmd.py\n",
      "-rw-r--r--  1 felipe felipe  12K Mar 28 23:26 .cmd.py.swp\n",
      "-rw-rw-r--  1 felipe felipe   62 Mar 28 23:28 err.txt\n",
      "drwxrwxr-x  2 felipe felipe 4,0K Nov  3 19:32 .ipynb_checkpoints\n",
      "-rw-rw-r--  1 felipe felipe  13K Mar 28 23:28 main.ipynb\n",
      "-rw-rw-r--  1 felipe felipe  522 Mar 28 23:28 out.txt\n",
      "\n",
      "stderr is empty\n"
     ]
    }
   ],
   "source": [
    "import asyncio\n",
    "\n",
    "proc = await asyncio.create_subprocess_exec(\n",
    "    'ls','-lha',\n",
    "    stdout=asyncio.subprocess.PIPE,\n",
    "    stderr=asyncio.subprocess.PIPE)\n",
    "\n",
    "\n",
    "# if proc takes very long to complete,\n",
    "# the CPUs are free to use cycles for \n",
    "# other processes\n",
    "stdout, stderr = await proc.communicate()\n",
    "\n",
    "print('[return code: '+ str(proc.returncode) +']')\n",
    "if stdout:\n",
    "    print('\\n[stdout: ]\\n'+str(stdout.decode()))\n",
    "else:\n",
    "    print('stdout is empty')\n",
    "       \n",
    "if stderr:\n",
    "    print(f'\\n[stderr]:\\n'+str(stderr.decode()))\n",
    "else:\n",
    "    print('stderr is empty')"
   ]
  },
  {
   "cell_type": "code",
   "execution_count": null,
   "metadata": {
    "collapsed": true
   },
   "outputs": [],
   "source": []
  },
  {
   "cell_type": "code",
   "execution_count": null,
   "metadata": {
    "collapsed": true
   },
   "outputs": [],
   "source": []
  }
 ],
 "metadata": {
  "kernelspec": {
   "display_name": "python36",
   "language": "python",
   "name": "python36"
  },
  "language_info": {
   "codemirror_mode": {
    "name": "ipython",
    "version": 3
   },
   "file_extension": ".py",
   "mimetype": "text/x-python",
   "name": "python",
   "nbconvert_exporter": "python",
   "pygments_lexer": "ipython3",
   "version": "3.6.7"
  }
 },
 "nbformat": 4,
 "nbformat_minor": 2
}
