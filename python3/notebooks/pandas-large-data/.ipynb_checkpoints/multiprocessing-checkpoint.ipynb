{
 "cells": [
  {
   "cell_type": "code",
   "execution_count": 1,
   "metadata": {},
   "outputs": [
    {
     "data": {
      "text/plain": [
       "'3.6.7'"
      ]
     },
     "execution_count": 1,
     "metadata": {},
     "output_type": "execute_result"
    }
   ],
   "source": [
    "from platform import python_version\n",
    "python_version()"
   ]
  },
  {
   "cell_type": "code",
   "execution_count": 20,
   "metadata": {},
   "outputs": [],
   "source": [
    "import pandas as pd\n",
    "import multiprocessing\n",
    "import nltk\n",
    "import numpy as np\n",
    "import sklearn\n",
    "import re"
   ]
  },
  {
   "cell_type": "code",
   "execution_count": 3,
   "metadata": {},
   "outputs": [
    {
     "data": {
      "text/plain": [
       "('0.25.1', '3.4.5', '1.16.3', '0.21.1')"
      ]
     },
     "execution_count": 3,
     "metadata": {},
     "output_type": "execute_result"
    }
   ],
   "source": [
    "pd.__version__, nltk.__version__, np.__version__, sklearn.__version__"
   ]
  },
  {
   "cell_type": "code",
   "execution_count": 4,
   "metadata": {},
   "outputs": [],
   "source": [
    "from multiprocessing import Pool"
   ]
  },
  {
   "cell_type": "code",
   "execution_count": 5,
   "metadata": {},
   "outputs": [],
   "source": [
    "from nltk.corpus import brown"
   ]
  },
  {
   "cell_type": "markdown",
   "metadata": {},
   "source": [
    "## generate a dataset that 3 times as big as the brown corpus by generating random permutations"
   ]
  },
  {
   "cell_type": "code",
   "execution_count": 6,
   "metadata": {},
   "outputs": [],
   "source": [
    "def make_texts():\n",
    "    return [\" \".join(np.random.permutation(sents)) for sents in brown.sents()]"
   ]
  },
  {
   "cell_type": "code",
   "execution_count": 24,
   "metadata": {},
   "outputs": [],
   "source": [
    "brown_df = pd.DataFrame({\n",
    "    'text': make_texts() + make_texts() + make_texts() + make_texts()\n",
    "})"
   ]
  },
  {
   "cell_type": "code",
   "execution_count": 25,
   "metadata": {},
   "outputs": [
    {
     "data": {
      "text/html": [
       "<div>\n",
       "<style scoped>\n",
       "    .dataframe tbody tr th:only-of-type {\n",
       "        vertical-align: middle;\n",
       "    }\n",
       "\n",
       "    .dataframe tbody tr th {\n",
       "        vertical-align: top;\n",
       "    }\n",
       "\n",
       "    .dataframe thead th {\n",
       "        text-align: right;\n",
       "    }\n",
       "</style>\n",
       "<table border=\"1\" class=\"dataframe tex2jax_ignore\">\n",
       "  <thead>\n",
       "    <tr style=\"text-align: right;\">\n",
       "      <th></th>\n",
       "      <th>text</th>\n",
       "    </tr>\n",
       "  </thead>\n",
       "  <tbody>\n",
       "    <tr>\n",
       "      <td>136644</td>\n",
       "      <td>Napoleon's was ideal as Macedon of His . was , Alexander Caesar Julius</td>\n",
       "    </tr>\n",
       "    <tr>\n",
       "      <td>94946</td>\n",
       "      <td>foams Urethane</td>\n",
       "    </tr>\n",
       "    <tr>\n",
       "      <td>72356</td>\n",
       "      <td>possible the , the talents incorporate range to offer exceptional freedom give and making to details design They which contours . of it free designer</td>\n",
       "    </tr>\n",
       "    <tr>\n",
       "      <td>205270</td>\n",
       "      <td>purposes Impersonal</td>\n",
       "    </tr>\n",
       "    <tr>\n",
       "      <td>154171</td>\n",
       "      <td>, ; was which ; we , respected killing them trade about we their redcoats the of felt terms in Whatever</td>\n",
       "    </tr>\n",
       "    <tr>\n",
       "      <td>145992</td>\n",
       "      <td>It is full the summer this still amazing species swing happen an , , August while in in will for that instance some is fact . in</td>\n",
       "    </tr>\n",
       "    <tr>\n",
       "      <td>5360</td>\n",
       "      <td>driver truck ; dairy The ;</td>\n",
       "    </tr>\n",
       "    <tr>\n",
       "      <td>104626</td>\n",
       "      <td>? What you `` here ? doing are ''</td>\n",
       "    </tr>\n",
       "    <tr>\n",
       "      <td>186249</td>\n",
       "      <td>it What : does</td>\n",
       "    </tr>\n",
       "    <tr>\n",
       "      <td>56572</td>\n",
       "      <td>playing '' was As around every , , I nearly mine all with scene built picture me Mother . actually the `` Cabrini was</td>\n",
       "    </tr>\n",
       "  </tbody>\n",
       "</table>\n",
       "</div>"
      ],
      "text/plain": [
       "                                                                                                                                                         text\n",
       "136644                                                                                 Napoleon's was ideal as Macedon of His . was , Alexander Caesar Julius\n",
       "94946                                                                                                                                          foams Urethane\n",
       "72356   possible the , the talents incorporate range to offer exceptional freedom give and making to details design They which contours . of it free designer\n",
       "205270                                                                                                                                    purposes Impersonal\n",
       "154171                                                , ; was which ; we , respected killing them trade about we their redcoats the of felt terms in Whatever\n",
       "145992                       It is full the summer this still amazing species swing happen an , , August while in in will for that instance some is fact . in\n",
       "5360                                                                                                                               driver truck ; dairy The ;\n",
       "104626                                                                                                                      ? What you `` here ? doing are ''\n",
       "186249                                                                                                                                         it What : does\n",
       "56572                                   playing '' was As around every , , I nearly mine all with scene built picture me Mother . actually the `` Cabrini was"
      ]
     },
     "execution_count": 25,
     "metadata": {},
     "output_type": "execute_result"
    }
   ],
   "source": [
    "brown_df.sample(10)"
   ]
  },
  {
   "cell_type": "code",
   "execution_count": 26,
   "metadata": {},
   "outputs": [
    {
     "data": {
      "text/plain": [
       "(229360, 1)"
      ]
     },
     "execution_count": 26,
     "metadata": {},
     "output_type": "execute_result"
    }
   ],
   "source": [
    "brown_df.shape"
   ]
  },
  {
   "cell_type": "code",
   "execution_count": 27,
   "metadata": {},
   "outputs": [],
   "source": [
    "def replace_weird_double_quotes(input_string):\n",
    "    return input_string.replace(\"``\",'\"')"
   ]
  },
  {
   "cell_type": "code",
   "execution_count": 28,
   "metadata": {},
   "outputs": [],
   "source": [
    "def to_lowercase(input_string):\n",
    "    return input_string.lower()"
   ]
  },
  {
   "cell_type": "code",
   "execution_count": 29,
   "metadata": {},
   "outputs": [],
   "source": [
    "def replace_digits_with_token(input_string):\n",
    "    return re.sub(r\"\\b\\d+\\b\",\"tok_num\", input_string)"
   ]
  },
  {
   "cell_type": "code",
   "execution_count": 30,
   "metadata": {},
   "outputs": [],
   "source": [
    "def get_text_length(input_string):\n",
    "    return len(re.split(r\"(?:\\s+)|(?:,)|(?:\\-)\",input_string))"
   ]
  },
  {
   "cell_type": "code",
   "execution_count": 31,
   "metadata": {},
   "outputs": [],
   "source": [
    "def process_df(df):\n",
    "    \n",
    "    output_df = df.copy()\n",
    "    \n",
    "    # replace weird double quotes with normal ones\n",
    "    output_df['text']      = output_df['text'].apply(replace_weird_double_quotes)\n",
    "\n",
    "    # text to lower case\n",
    "    output_df['text']      = output_df['text'].apply(to_lowercase)\n",
    "    \n",
    "    # replace number with a special token\n",
    "    output_df['text']      = output_df['text'].apply(replace_digits_with_token)\n",
    "    \n",
    "    # take out texts that are too large or too small\n",
    "    output_df['num_words'] = output_df['text'].apply(get_text_length)   \n",
    "        \n",
    "    indices_to_remove_too_large = output_df[output_df['num_words'] > 50]\n",
    "    output_df.drop(indices_to_remove_too_large.index, inplace=True)\n",
    "    \n",
    "    indices_to_remove_too_small = output_df[output_df['num_words'] < 10]\n",
    "    output_df.drop(indices_to_remove_too_small.index, inplace=True)    \n",
    "    \n",
    "    output_df.reset_index(drop=True, inplace=True)\n",
    "    \n",
    "    return output_df"
   ]
  },
  {
   "cell_type": "code",
   "execution_count": 32,
   "metadata": {},
   "outputs": [
    {
     "name": "stdout",
     "output_type": "stream",
     "text": [
      "CPU times: user 2.53 s, sys: 16 ms, total: 2.54 s\n",
      "Wall time: 2.54 s\n"
     ]
    }
   ],
   "source": [
    "%%time\n",
    "processed_df = process_df(brown_df)"
   ]
  },
  {
   "cell_type": "code",
   "execution_count": 33,
   "metadata": {},
   "outputs": [
    {
     "data": {
      "text/html": [
       "<div>\n",
       "<style scoped>\n",
       "    .dataframe tbody tr th:only-of-type {\n",
       "        vertical-align: middle;\n",
       "    }\n",
       "\n",
       "    .dataframe tbody tr th {\n",
       "        vertical-align: top;\n",
       "    }\n",
       "\n",
       "    .dataframe thead th {\n",
       "        text-align: right;\n",
       "    }\n",
       "</style>\n",
       "<table border=\"1\" class=\"dataframe tex2jax_ignore\">\n",
       "  <thead>\n",
       "    <tr style=\"text-align: right;\">\n",
       "      <th></th>\n",
       "      <th>text</th>\n",
       "      <th>num_words</th>\n",
       "    </tr>\n",
       "  </thead>\n",
       "  <tbody>\n",
       "    <tr>\n",
       "      <td>0</td>\n",
       "      <td>took election jury an . investigation the place atlanta's any \" produced evidence friday recent that fulton of irregularities no primary said county grand ''</td>\n",
       "      <td>25</td>\n",
       "    </tr>\n",
       "    <tr>\n",
       "      <td>1</td>\n",
       "      <td>in city deserves thanks was manner election conducted the for committee . that the the charge city the '' , which of of term-end further atlanta the the in presentments and executive said jury \" which over-all praise of , had election the</td>\n",
       "      <td>47</td>\n",
       "    </tr>\n",
       "    <tr>\n",
       "      <td>2</td>\n",
       "      <td>hard-fought judge primary september-october charged won '' the jr. irregularities jury term court by ivan by durwood pye had been reports . to in of possible superior which \" the mayor-nominate investigate fulton allen was</td>\n",
       "      <td>38</td>\n",
       "    </tr>\n",
       "    <tr>\n",
       "      <td>3</td>\n",
       "      <td>, received \" size of of , in handful widespread considering the only election '' such the relative \" the said a number the was '' and . jury of voters the interest , this reports city</td>\n",
       "      <td>40</td>\n",
       "    </tr>\n",
       "    <tr>\n",
       "      <td>4</td>\n",
       "      <td>and that did jury \" registration outmoded laws find of election georgia's the often said are . ambiguous or inadequate '' and it many</td>\n",
       "      <td>24</td>\n",
       "    </tr>\n",
       "  </tbody>\n",
       "</table>\n",
       "</div>"
      ],
      "text/plain": [
       "                                                                                                                                                                                                                                             text  \\\n",
       "0                                                                                   took election jury an . investigation the place atlanta's any \" produced evidence friday recent that fulton of irregularities no primary said county grand ''   \n",
       "1  in city deserves thanks was manner election conducted the for committee . that the the charge city the '' , which of of term-end further atlanta the the in presentments and executive said jury \" which over-all praise of , had election the   \n",
       "2                  hard-fought judge primary september-october charged won '' the jr. irregularities jury term court by ivan by durwood pye had been reports . to in of possible superior which \" the mayor-nominate investigate fulton allen was   \n",
       "3                                                         , received \" size of of , in handful widespread considering the only election '' such the relative \" the said a number the was '' and . jury of voters the interest , this reports city   \n",
       "4                                                                                                           and that did jury \" registration outmoded laws find of election georgia's the often said are . ambiguous or inadequate '' and it many   \n",
       "\n",
       "   num_words  \n",
       "0         25  \n",
       "1         47  \n",
       "2         38  \n",
       "3         40  \n",
       "4         24  "
      ]
     },
     "execution_count": 33,
     "metadata": {},
     "output_type": "execute_result"
    }
   ],
   "source": [
    "processed_df.head()"
   ]
  },
  {
   "cell_type": "code",
   "execution_count": 34,
   "metadata": {},
   "outputs": [
    {
     "data": {
      "text/plain": [
       "(174440, 2)"
      ]
     },
     "execution_count": 34,
     "metadata": {},
     "output_type": "execute_result"
    }
   ],
   "source": [
    "processed_df.shape"
   ]
  },
  {
   "cell_type": "markdown",
   "metadata": {},
   "source": [
    "## parallel version"
   ]
  },
  {
   "cell_type": "code",
   "execution_count": 43,
   "metadata": {},
   "outputs": [],
   "source": [
    "NUM_CORES = 8\n",
    "df_chunks = np.array_split(brown_df,NUM_CORES)"
   ]
  },
  {
   "cell_type": "code",
   "execution_count": 44,
   "metadata": {},
   "outputs": [
    {
     "name": "stdout",
     "output_type": "stream",
     "text": [
      "CPU times: user 164 ms, sys: 136 ms, total: 300 ms\n",
      "Wall time: 907 ms\n"
     ]
    }
   ],
   "source": [
    "%%time\n",
    "\n",
    "with multiprocessing.Pool(NUM_CORES) as pool:\n",
    "    processed_df = pd.concat(pool.map(process_df, df_chunks), ignore_index=True)"
   ]
  },
  {
   "cell_type": "code",
   "execution_count": 42,
   "metadata": {},
   "outputs": [
    {
     "data": {
      "text/plain": [
       "(174440, 2)"
      ]
     },
     "execution_count": 42,
     "metadata": {},
     "output_type": "execute_result"
    }
   ],
   "source": [
    "processed_df.shape"
   ]
  }
 ],
 "metadata": {
  "kernelspec": {
   "display_name": "Python 3.6",
   "language": "python",
   "name": "python36"
  },
  "language_info": {
   "codemirror_mode": {
    "name": "ipython",
    "version": 3
   },
   "file_extension": ".py",
   "mimetype": "text/x-python",
   "name": "python",
   "nbconvert_exporter": "python",
   "pygments_lexer": "ipython3",
   "version": "3.6.7"
  }
 },
 "nbformat": 4,
 "nbformat_minor": 2
}
