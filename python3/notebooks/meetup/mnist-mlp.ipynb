{
 "cells": [
  {
   "cell_type": "code",
   "execution_count": 1,
   "metadata": {},
   "outputs": [
    {
     "name": "stderr",
     "output_type": "stream",
     "text": [
      "Using TensorFlow backend.\n"
     ]
    }
   ],
   "source": [
    "import keras\n",
    "import tensorflow as tf\n",
    "\n",
    "from keras.datasets import mnist\n",
    "from keras.models import Sequential\n",
    "from keras.layers import Dense, Dropout\n",
    "from keras.optimizers import RMSprop\n",
    "\n",
    "from sklearn.preprocessing import StandardScaler, MinMaxScaler, Normalizer"
   ]
  },
  {
   "cell_type": "code",
   "execution_count": 2,
   "metadata": {
    "collapsed": true
   },
   "outputs": [],
   "source": [
    "batch_size = 128\n",
    "num_classes = 10\n",
    "epochs = 20"
   ]
  },
  {
   "cell_type": "code",
   "execution_count": 3,
   "metadata": {
    "collapsed": true
   },
   "outputs": [],
   "source": [
    "(x_train, y_train), (x_test, y_test) = mnist.load_data()\n",
    "\n",
    "x_train = x_train.reshape(60000, 784).astype('float32')\n",
    "x_test = x_test.reshape(10000, 784).astype('float32')"
   ]
  },
  {
   "cell_type": "code",
   "execution_count": 4,
   "metadata": {
    "collapsed": true
   },
   "outputs": [],
   "source": [
    "sc = MinMaxScaler(feature_range=(0,1))\n",
    "\n",
    "x_train = sc.fit_transform(x_train)\n",
    "x_test = sc.fit_transform(x_test)"
   ]
  },
  {
   "cell_type": "code",
   "execution_count": 5,
   "metadata": {
    "collapsed": true
   },
   "outputs": [],
   "source": [
    "# one hot encoding\n",
    "y_train = keras.utils.to_categorical(y_train, num_classes)\n",
    "y_test = keras.utils.to_categorical(y_test, num_classes)"
   ]
  },
  {
   "cell_type": "code",
   "execution_count": 6,
   "metadata": {
    "collapsed": true,
    "scrolled": true
   },
   "outputs": [],
   "source": [
    "model = Sequential()\n",
    "model.add(Dense(800, activation='relu', input_shape=(784,)))\n",
    "model.add(Dense(10, activation='softmax'))"
   ]
  },
  {
   "cell_type": "code",
   "execution_count": 7,
   "metadata": {
    "collapsed": true
   },
   "outputs": [],
   "source": [
    "model.compile(loss='categorical_crossentropy',\n",
    "              optimizer=RMSprop(),\n",
    "              metrics=['accuracy'])"
   ]
  },
  {
   "cell_type": "code",
   "execution_count": 8,
   "metadata": {},
   "outputs": [
    {
     "name": "stdout",
     "output_type": "stream",
     "text": [
      "Train on 60000 samples, validate on 10000 samples\n",
      "Epoch 1/20\n",
      "60000/60000 [==============================] - 13s - loss: 0.2386 - acc: 0.9303 - val_loss: 0.1264 - val_acc: 0.9614\n",
      "Epoch 2/20\n",
      "60000/60000 [==============================] - 1s - loss: 0.0926 - acc: 0.9726 - val_loss: 0.0854 - val_acc: 0.9733\n",
      "Epoch 3/20\n",
      "60000/60000 [==============================] - 1s - loss: 0.0598 - acc: 0.9821 - val_loss: 0.0746 - val_acc: 0.9773\n",
      "Epoch 4/20\n",
      "60000/60000 [==============================] - 1s - loss: 0.0433 - acc: 0.9867 - val_loss: 0.0692 - val_acc: 0.9788\n",
      "Epoch 5/20\n",
      "60000/60000 [==============================] - 1s - loss: 0.0316 - acc: 0.9907 - val_loss: 0.0640 - val_acc: 0.9813\n",
      "Epoch 6/20\n",
      "60000/60000 [==============================] - 1s - loss: 0.0226 - acc: 0.9931 - val_loss: 0.0669 - val_acc: 0.9821\n",
      "Epoch 7/20\n",
      "60000/60000 [==============================] - 1s - loss: 0.0174 - acc: 0.9949 - val_loss: 0.0650 - val_acc: 0.9824\n",
      "Epoch 8/20\n",
      "60000/60000 [==============================] - 1s - loss: 0.0125 - acc: 0.9963 - val_loss: 0.0704 - val_acc: 0.9806\n",
      "Epoch 9/20\n",
      "60000/60000 [==============================] - 1s - loss: 0.0105 - acc: 0.9968 - val_loss: 0.0676 - val_acc: 0.9824\n",
      "Epoch 10/20\n",
      "60000/60000 [==============================] - 1s - loss: 0.0078 - acc: 0.9978 - val_loss: 0.0749 - val_acc: 0.9827\n",
      "Epoch 11/20\n",
      "60000/60000 [==============================] - 1s - loss: 0.0058 - acc: 0.9984 - val_loss: 0.0797 - val_acc: 0.9829\n",
      "Epoch 12/20\n",
      "60000/60000 [==============================] - 1s - loss: 0.0051 - acc: 0.9985 - val_loss: 0.0840 - val_acc: 0.9820\n",
      "Epoch 13/20\n",
      "60000/60000 [==============================] - 1s - loss: 0.0042 - acc: 0.9988 - val_loss: 0.0813 - val_acc: 0.9842\n",
      "Epoch 14/20\n",
      "60000/60000 [==============================] - 1s - loss: 0.0032 - acc: 0.9990 - val_loss: 0.0877 - val_acc: 0.9819\n",
      "Epoch 15/20\n",
      "60000/60000 [==============================] - 1s - loss: 0.0027 - acc: 0.9991 - val_loss: 0.0886 - val_acc: 0.9831\n",
      "Epoch 16/20\n",
      "60000/60000 [==============================] - 1s - loss: 0.0021 - acc: 0.9996 - val_loss: 0.0925 - val_acc: 0.9818\n",
      "Epoch 17/20\n",
      "60000/60000 [==============================] - 1s - loss: 0.0018 - acc: 0.9995 - val_loss: 0.0864 - val_acc: 0.9835\n",
      "Epoch 18/20\n",
      "60000/60000 [==============================] - 1s - loss: 0.0016 - acc: 0.9995 - val_loss: 0.1155 - val_acc: 0.9800\n",
      "Epoch 19/20\n",
      "60000/60000 [==============================] - 1s - loss: 9.7770e-04 - acc: 0.9998 - val_loss: 0.1030 - val_acc: 0.9831\n",
      "Epoch 20/20\n",
      "60000/60000 [==============================] - 1s - loss: 0.0012 - acc: 0.9997 - val_loss: 0.1061 - val_acc: 0.9823\n"
     ]
    },
    {
     "data": {
      "text/plain": [
       "<keras.callbacks.History at 0x7f9c6a833fd0>"
      ]
     },
     "execution_count": 8,
     "metadata": {},
     "output_type": "execute_result"
    }
   ],
   "source": [
    "model.fit(x_train, y_train,\n",
    "                    batch_size=batch_size,\n",
    "                    epochs=epochs,\n",
    "                    verbose=1,\n",
    "                    validation_data=(x_test, y_test))"
   ]
  },
  {
   "cell_type": "code",
   "execution_count": null,
   "metadata": {
    "collapsed": true
   },
   "outputs": [],
   "source": []
  }
 ],
 "metadata": {
  "kernelspec": {
   "display_name": "Global TF Kernel (Python 3)",
   "language": "python",
   "name": "global-tf-python-3"
  },
  "language_info": {
   "codemirror_mode": {
    "name": "ipython",
    "version": 3
   },
   "file_extension": ".py",
   "mimetype": "text/x-python",
   "name": "python",
   "nbconvert_exporter": "python",
   "pygments_lexer": "ipython3",
   "version": "3.5.2"
  }
 },
 "nbformat": 4,
 "nbformat_minor": 2
}
