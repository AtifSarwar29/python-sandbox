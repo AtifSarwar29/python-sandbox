{
 "cells": [
  {
   "cell_type": "markdown",
   "metadata": {},
   "source": [
    "# Prova (candidatura à vaga de Data Scientist)"
   ]
  },
  {
   "cell_type": "markdown",
   "metadata": {},
   "source": [
    "início: 28/05/2016, às 16:19\n",
    "fim: 28/05/2016, às 19:20\n",
    "\n",
    "no caso de múltipla escolha, eu marquei com **negrito** as alternativas corretas"
   ]
  },
  {
   "cell_type": "code",
   "execution_count": 1,
   "metadata": {
    "collapsed": true
   },
   "outputs": [],
   "source": [
    "import numpy as np\n",
    "import scipy as sp\n",
    "import pandas as pd\n",
    "import sklearn\n",
    "from matplotlib import pyplot as plt\n",
    "\n",
    "%matplotlib inline"
   ]
  },
  {
   "cell_type": "markdown",
   "metadata": {},
   "source": [
    "## Agrupamento de Dados"
   ]
  },
  {
   "cell_type": "markdown",
   "metadata": {},
   "source": [
    "### 1)"
   ]
  },
  {
   "cell_type": "code",
   "execution_count": 2,
   "metadata": {
    "collapsed": false
   },
   "outputs": [
    {
     "data": {
      "image/png": "[encoded data removed]",
      "text/plain": [
       "<matplotlib.figure.Figure at 0x7f5a3b4a8b00>"
      ]
     },
     "metadata": {},
     "output_type": "display_data"
    }
   ],
   "source": [
    "from scipy.cluster.hierarchy import dendrogram, linkage\n",
    "\n",
    "# acho que o python precisa da matriz completa de distância então vou expandi-la\n",
    "a = np.array([[0, 2, 6,10, 9],\n",
    "              [2, 0, 5, 9, 8],\n",
    "              [6, 5, 0, 4, 5],\n",
    "              [10,9, 4, 0, 3],\n",
    "              [9, 8, 5, 3, 0]])\n",
    "\n",
    "z = linkage(a,method='single')\n",
    "d = dendrogram(z)"
   ]
  },
  {
   "cell_type": "markdown",
   "metadata": {},
   "source": [
    "Considerando o dendrograma obtido, assinale a(s) alternativa(s) correta(s):\n",
    "\n",
    "- a) Inicialmente, cada objeto não forma um singleton (cluster unitário).\n",
    "- **b) Os objetos 1 e 2 formam o primeiro cluster não unitário.**\n",
    "- c) Os objetos 1 e 5 nunca pertencerão ao mesmo cluster.\n",
    "- d) Os objetos 4 e 5 não podem pertencer ao mesmo cluster.\n",
    "- **e) O algoritmo produz uma sequência de partições aninhadas.**"
   ]
  },
  {
   "cell_type": "markdown",
   "metadata": {},
   "source": [
    "### 2)"
   ]
  },
  {
   "cell_type": "code",
   "execution_count": 3,
   "metadata": {
    "collapsed": false
   },
   "outputs": [
    {
     "name": "stdout",
     "output_type": "stream",
     "text": [
      "[[ 1.5         1.5       ]\n",
      " [ 5.33333333  1.33333333]]\n"
     ]
    }
   ],
   "source": [
    "from sklearn.cluster import KMeans\n",
    "\n",
    "X = np.array([[1,1],\n",
    "              [1,2],\n",
    "              [2,1],\n",
    "              [2,2],\n",
    "              [5,1],\n",
    "              [6,1],\n",
    "              [5,2]])\n",
    "init_centroids = np.array([[3,0],\n",
    "                            [5,0]])\n",
    "\n",
    "clust = KMeans(\n",
    "    n_clusters=2,init=init_centroids,max_iter=5,n_init=1).fit(X)\n",
    "\n",
    "print(clust.cluster_centers_)"
   ]
  },
  {
   "cell_type": "markdown",
   "metadata": {},
   "source": [
    "### 3)"
   ]
  },
  {
   "cell_type": "code",
   "execution_count": 4,
   "metadata": {
    "collapsed": false
   },
   "outputs": [
    {
     "name": "stdout",
     "output_type": "stream",
     "text": [
      "-0.16666666666666669\n"
     ]
    }
   ],
   "source": [
    "from sklearn.metrics.cluster import adjusted_rand_score\n",
    "\n",
    "# each value is 1 if the group is 1, and 2 otherwise\n",
    "true_groups = [1,2,1,2,2,1,2]\n",
    "predicted_clusters = [1,2,1,1,1,2,2]\n",
    "\n",
    "\n",
    "print(adjusted_rand_score(true_groups,predicted_clusters))"
   ]
  },
  {
   "cell_type": "markdown",
   "metadata": {},
   "source": [
    "### 4)"
   ]
  },
  {
   "cell_type": "markdown",
   "metadata": {},
   "source": [
    "- **a) A distância euclidiana entre p e q, dEuclidiana(p,q), é igual ao cosseno do ângulo entre os versores.**\n",
    "- b) É possível demonstrar que dEuclidiana(p,q) 2 = 2dcos para dcos=(1- cos), onde é o ângulo entre p e q.\n",
    "- c) Não se pode usar p e q como entradas para um algoritmo de agrupamento de documentos textuais.\n",
    "- d) Nenhuma das alternativas está correta"
   ]
  },
  {
   "cell_type": "markdown",
   "metadata": {},
   "source": [
    "## Classificação"
   ]
  },
  {
   "cell_type": "code",
   "execution_count": 5,
   "metadata": {
    "collapsed": false
   },
   "outputs": [
    {
     "name": "stdout",
     "output_type": "stream",
     "text": [
      "0\n"
     ]
    }
   ],
   "source": [
    "from sklearn.naive_bayes import MultinomialNB\n",
    "from sklearn.preprocessing import OneHotEncoder\n",
    "\n",
    "# ensolarado,chuvoso, nublado = [0,1,2]\n",
    "# quente, frio, morno = [0,1,2]\n",
    "# alta,normal = [0,1]\n",
    "# falsa,verdadeiro = [0,1]\n",
    "# não,sim = [0,1]\n",
    "\n",
    "# codificando o dataset em índices pois as features são categóricas\n",
    "dataset = np.array([\n",
    "        [0,0,0,0,0],\n",
    "        [0,0,0,1,0],\n",
    "        [1,1,1,1,0],\n",
    "        [0,2,0,0,0],\n",
    "        [1,2,0,1,0],        \n",
    "        [2,0,0,0,1],\n",
    "        [1,2,0,0,1],\n",
    "        [1,1,1,0,1],\n",
    "        [2,1,1,1,1],\n",
    "        [0,1,1,0,1],\n",
    "        [1,2,1,0,1],\n",
    "        [0,2,1,1,1],\n",
    "        [2,2,0,1,1],\n",
    "        [2,0,1,0,1]])\n",
    "\n",
    "enc = OneHotEncoder()\n",
    "data = enc.fit_transform(dataset[:,:-1])\n",
    "\n",
    "target = dataset[:,4]\n",
    "\n",
    "# the classifier\n",
    "clf = MultinomialNB()\n",
    "clf.fit(data, target)\n",
    "\n",
    "# the test data point\n",
    "test_data_point = enc.transform(np.array([0,0,1,1]).reshape(1,-1))\n",
    "\n",
    "predicted_class = clf.predict(test_data_point)[0]\n",
    "\n",
    "print(predicted_class)"
   ]
  },
  {
   "cell_type": "markdown",
   "metadata": {},
   "source": [
    "### 6)"
   ]
  },
  {
   "cell_type": "code",
   "execution_count": 6,
   "metadata": {
    "collapsed": false
   },
   "outputs": [
    {
     "name": "stdout",
     "output_type": "stream",
     "text": [
      "predicted class for item a) is 1\n"
     ]
    }
   ],
   "source": [
    "from sklearn import tree\n",
    "\n",
    "# não/sim = 0,1\n",
    "# não/sim = 0,1\n",
    "# cheio, nenhum, algum = 0,1,2\n",
    "# tailandes,frances, hamburguer, italiano = 0,1,2,3\n",
    "# não /sim = 0,1\n",
    "\n",
    "# codificando o dataset em índices pois as features são categóricas\n",
    "dataset = np.array([\n",
    "        [0,1,0,0,0],\n",
    "        [1,0,0,1,0],\n",
    "        [0,0,1,2,0],\n",
    "        [1,0,1,2,0],\n",
    "        [1,1,0,3,0],\n",
    "        [0,0,1,0,0],\n",
    "        [0,1,2,1,1],\n",
    "        [0,0,2,2,1],\n",
    "        [1,1,0,0,1],\n",
    "        [0,1,2,3,1],\n",
    "        [0,1,2,0,1], \n",
    "        [1,1,0,2,1]])\n",
    "\n",
    "enc = OneHotEncoder()\n",
    "data = enc.fit_transform(dataset[:,:-1])\n",
    "target = dataset[:,4]\n",
    "\n",
    "## ITEM a)\n",
    "\n",
    "clf = tree.DecisionTreeClassifier()\n",
    "clf = clf.fit(data,target)\n",
    "\n",
    "# the test data point 1\n",
    "test_data_point_1 = enc.transform(np.array([1,1,0,1]).reshape(1,-1))\n",
    "\n",
    "predicted_class = clf.predict(test_data_point_1)[0]\n",
    "\n",
    "print(\"predicted class for item a) is {0}\".format(predicted_class))"
   ]
  },
  {
   "cell_type": "code",
   "execution_count": 7,
   "metadata": {
    "collapsed": false
   },
   "outputs": [
    {
     "name": "stdout",
     "output_type": "stream",
     "text": [
      "distances: [[ 1.41421356  1.41421356  2.        ]] \n",
      "\n",
      "indices: [[4 9 6]] \n",
      "\n",
      "\n",
      "indices 4 and 9 are equally close to the test point\n",
      "since scikit learn is 0-indexed, indices 4 and 9 \n",
      "correspond to samples 5 and 10, respectively.\n"
     ]
    }
   ],
   "source": [
    "## ITEM b)\n",
    "\n",
    "# não achei o algoritmo sugerido (simple matching coefficient)  dentro\n",
    "# dos algoritmos suportados pelo KNN do sklearn então usei o default \n",
    "# 'auto'\n",
    "from sklearn.neighbors import NearestNeighbors\n",
    "\n",
    "# the test data point 2\n",
    "test_data_point_2 = enc.transform(np.array([1,1,2,3]).reshape(1,-1))\n",
    "\n",
    "clf = NearestNeighbors(n_neighbors=3,algorithm='auto').fit(data)\n",
    "\n",
    "distances, indices = clf.kneighbors(test_data_point_2)\n",
    "\n",
    "print(\"distances: {0} \\n\\nindices: {1} \\n\\n\".format(distances,indices))\n",
    "print(\"Indices 4 and 9 are equally close to the test point\")\n",
    "print(\"since scikit learn is 0-indexed, indices 4 and 9 \")\n",
    "print(\"correspond to samples 5 and 10, respectively.\")"
   ]
  }
 ],
 "metadata": {
  "kernelspec": {
   "display_name": "Python 3",
   "language": "python",
   "name": "python3"
  },
  "language_info": {
   "codemirror_mode": {
    "name": "ipython",
    "version": 3
   },
   "file_extension": ".py",
   "mimetype": "text/x-python",
   "name": "python",
   "nbconvert_exporter": "python",
   "pygments_lexer": "ipython3",
   "version": "3.4.3"
  }
 },
 "nbformat": 4,
 "nbformat_minor": 0
}
